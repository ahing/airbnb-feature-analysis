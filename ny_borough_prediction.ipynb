{
 "cells": [
  {
   "cell_type": "markdown",
   "metadata": {},
   "source": [
    "# Predicting the Airbnb Lodgings in New York"
   ]
  },
  {
   "cell_type": "markdown",
   "metadata": {},
   "source": [
    "## Summary\n",
    "Using a dataset provided by Airbnb, analysis and predictions will be made to understand what effects the total price of an Airbnb. Diving further, questions like, where do people tend to stay most?, how long do they stay there?, does booking at a certain time of year effect price?, where would be the most affordable place to book a Airbnb?,and  what is the average price for a stay? will be addressed. Regressor tree models will be used to predict price of future Airbnbs as well. In the end some results were to be expected but some also came with a surprice. It was no surprise that people stayed the longest in Manhattan or that service fees affected the total price the most. But what was surprising to me at least was that Bedford-Stuyvesant was the neighborhood that people stayed at the most. Upper East Side, Astoria, Prospect-Lefferts Gardens, and East Village were the locations that deemed the most affordable. Finally, people like to stay on average 1-2 nights at Airbnb."
   ]
  },
  {
   "cell_type": "markdown",
   "metadata": {},
   "source": [
    "# Import necessary libraries "
   ]
  },
  {
   "cell_type": "code",
   "execution_count": 113,
   "metadata": {},
   "outputs": [],
   "source": [
    "import pandas as pd\n",
    "import numpy as np\n",
    "import matplotlib.pyplot as plt\n",
    "plt.style.use('seaborn')\n",
    "%matplotlib inline\n",
    "import seaborn as sns\n",
    "sns.set_style('darkgrid')\n",
    "import math\n",
    "from datetime import datetime\n",
    "from sklearn import svm\n",
    "from sklearn import tree\n",
    "\n",
    "from sklearn.linear_model import LinearRegression\n",
    "from statsmodels.formula.api import ols\n",
    "import statsmodels.formula.api as smf\n",
    "from statsmodels.stats.outliers_influence import variance_inflation_factor\n",
    "from sklearn.model_selection import cross_val_score\n",
    "from scipy.stats import zscore\n",
    "import statsmodels.api as sm\n",
    "import scipy.stats as stats\n",
    "from sklearn.model_selection import train_test_split, GridSearchCV, cross_val_score\n",
    "from sklearn.preprocessing import StandardScaler, MinMaxScaler, OneHotEncoder, LabelEncoder\n",
    "from sklearn.linear_model import LogisticRegression\n",
    "from sklearn.metrics import auc\n",
    "from sklearn.metrics import accuracy_score, roc_curve, classification_report\n",
    "from sklearn.metrics import confusion_matrix, plot_confusion_matrix\n",
    "from sklearn.metrics import recall_score\n",
    "from sklearn.metrics import precision_score\n",
    "from sklearn.metrics import f1_score\n",
    "from sklearn.metrics import roc_auc_score\n",
    "from sklearn.metrics import mean_squared_log_error\n",
    "from imblearn.over_sampling import SMOTE, ADASYN\n",
    "from sklearn.ensemble import RandomForestRegressor\n",
    "from sklearn.tree import DecisionTreeRegressor\n",
    "from sklearn import metrics\n",
    "import warnings\n",
    "warnings.filterwarnings('ignore')\n"
   ]
  },
  {
   "cell_type": "code",
   "execution_count": 2,
   "metadata": {},
   "outputs": [],
   "source": [
    "open_data = pd.read_csv('data/Airbnb_Open_Data.csv')\n"
   ]
  },
  {
   "cell_type": "markdown",
   "metadata": {},
   "source": [
    "## Exploring Dataset"
   ]
  },
  {
   "cell_type": "code",
   "execution_count": 3,
   "metadata": {},
   "outputs": [
    {
     "data": {
      "text/html": [
       "<div>\n",
       "<style scoped>\n",
       "    .dataframe tbody tr th:only-of-type {\n",
       "        vertical-align: middle;\n",
       "    }\n",
       "\n",
       "    .dataframe tbody tr th {\n",
       "        vertical-align: top;\n",
       "    }\n",
       "\n",
       "    .dataframe thead th {\n",
       "        text-align: right;\n",
       "    }\n",
       "</style>\n",
       "<table border=\"1\" class=\"dataframe\">\n",
       "  <thead>\n",
       "    <tr style=\"text-align: right;\">\n",
       "      <th></th>\n",
       "      <th>id</th>\n",
       "      <th>NAME</th>\n",
       "      <th>host id</th>\n",
       "      <th>host_identity_verified</th>\n",
       "      <th>host name</th>\n",
       "      <th>neighbourhood group</th>\n",
       "      <th>neighbourhood</th>\n",
       "      <th>lat</th>\n",
       "      <th>long</th>\n",
       "      <th>country</th>\n",
       "      <th>...</th>\n",
       "      <th>service fee</th>\n",
       "      <th>minimum nights</th>\n",
       "      <th>number of reviews</th>\n",
       "      <th>last review</th>\n",
       "      <th>reviews per month</th>\n",
       "      <th>review rate number</th>\n",
       "      <th>calculated host listings count</th>\n",
       "      <th>availability 365</th>\n",
       "      <th>house_rules</th>\n",
       "      <th>license</th>\n",
       "    </tr>\n",
       "  </thead>\n",
       "  <tbody>\n",
       "    <tr>\n",
       "      <th>0</th>\n",
       "      <td>1001254</td>\n",
       "      <td>Clean &amp; quiet apt home by the park</td>\n",
       "      <td>80014485718</td>\n",
       "      <td>unconfirmed</td>\n",
       "      <td>Madaline</td>\n",
       "      <td>Brooklyn</td>\n",
       "      <td>Kensington</td>\n",
       "      <td>40.64749</td>\n",
       "      <td>-73.97237</td>\n",
       "      <td>United States</td>\n",
       "      <td>...</td>\n",
       "      <td>$193</td>\n",
       "      <td>10.0</td>\n",
       "      <td>9.0</td>\n",
       "      <td>10/19/2021</td>\n",
       "      <td>0.21</td>\n",
       "      <td>4.0</td>\n",
       "      <td>6.0</td>\n",
       "      <td>286.0</td>\n",
       "      <td>Clean up and treat the home the way you'd like...</td>\n",
       "      <td>NaN</td>\n",
       "    </tr>\n",
       "    <tr>\n",
       "      <th>1</th>\n",
       "      <td>1002102</td>\n",
       "      <td>Skylit Midtown Castle</td>\n",
       "      <td>52335172823</td>\n",
       "      <td>verified</td>\n",
       "      <td>Jenna</td>\n",
       "      <td>Manhattan</td>\n",
       "      <td>Midtown</td>\n",
       "      <td>40.75362</td>\n",
       "      <td>-73.98377</td>\n",
       "      <td>United States</td>\n",
       "      <td>...</td>\n",
       "      <td>$28</td>\n",
       "      <td>30.0</td>\n",
       "      <td>45.0</td>\n",
       "      <td>5/21/2022</td>\n",
       "      <td>0.38</td>\n",
       "      <td>4.0</td>\n",
       "      <td>2.0</td>\n",
       "      <td>228.0</td>\n",
       "      <td>Pet friendly but please confirm with me if the...</td>\n",
       "      <td>NaN</td>\n",
       "    </tr>\n",
       "    <tr>\n",
       "      <th>2</th>\n",
       "      <td>1002403</td>\n",
       "      <td>THE VILLAGE OF HARLEM....NEW YORK !</td>\n",
       "      <td>78829239556</td>\n",
       "      <td>NaN</td>\n",
       "      <td>Elise</td>\n",
       "      <td>Manhattan</td>\n",
       "      <td>Harlem</td>\n",
       "      <td>40.80902</td>\n",
       "      <td>-73.94190</td>\n",
       "      <td>United States</td>\n",
       "      <td>...</td>\n",
       "      <td>$124</td>\n",
       "      <td>3.0</td>\n",
       "      <td>0.0</td>\n",
       "      <td>NaN</td>\n",
       "      <td>NaN</td>\n",
       "      <td>5.0</td>\n",
       "      <td>1.0</td>\n",
       "      <td>352.0</td>\n",
       "      <td>I encourage you to use my kitchen, cooking and...</td>\n",
       "      <td>NaN</td>\n",
       "    </tr>\n",
       "    <tr>\n",
       "      <th>3</th>\n",
       "      <td>1002755</td>\n",
       "      <td>NaN</td>\n",
       "      <td>85098326012</td>\n",
       "      <td>unconfirmed</td>\n",
       "      <td>Garry</td>\n",
       "      <td>Brooklyn</td>\n",
       "      <td>Clinton Hill</td>\n",
       "      <td>40.68514</td>\n",
       "      <td>-73.95976</td>\n",
       "      <td>United States</td>\n",
       "      <td>...</td>\n",
       "      <td>$74</td>\n",
       "      <td>30.0</td>\n",
       "      <td>270.0</td>\n",
       "      <td>7/5/2019</td>\n",
       "      <td>4.64</td>\n",
       "      <td>4.0</td>\n",
       "      <td>1.0</td>\n",
       "      <td>322.0</td>\n",
       "      <td>NaN</td>\n",
       "      <td>NaN</td>\n",
       "    </tr>\n",
       "    <tr>\n",
       "      <th>4</th>\n",
       "      <td>1003689</td>\n",
       "      <td>Entire Apt: Spacious Studio/Loft by central park</td>\n",
       "      <td>92037596077</td>\n",
       "      <td>verified</td>\n",
       "      <td>Lyndon</td>\n",
       "      <td>Manhattan</td>\n",
       "      <td>East Harlem</td>\n",
       "      <td>40.79851</td>\n",
       "      <td>-73.94399</td>\n",
       "      <td>United States</td>\n",
       "      <td>...</td>\n",
       "      <td>$41</td>\n",
       "      <td>10.0</td>\n",
       "      <td>9.0</td>\n",
       "      <td>11/19/2018</td>\n",
       "      <td>0.10</td>\n",
       "      <td>3.0</td>\n",
       "      <td>1.0</td>\n",
       "      <td>289.0</td>\n",
       "      <td>Please no smoking in the house, porch or on th...</td>\n",
       "      <td>NaN</td>\n",
       "    </tr>\n",
       "  </tbody>\n",
       "</table>\n",
       "<p>5 rows × 26 columns</p>\n",
       "</div>"
      ],
      "text/plain": [
       "        id                                              NAME      host id  \\\n",
       "0  1001254                Clean & quiet apt home by the park  80014485718   \n",
       "1  1002102                             Skylit Midtown Castle  52335172823   \n",
       "2  1002403               THE VILLAGE OF HARLEM....NEW YORK !  78829239556   \n",
       "3  1002755                                               NaN  85098326012   \n",
       "4  1003689  Entire Apt: Spacious Studio/Loft by central park  92037596077   \n",
       "\n",
       "  host_identity_verified host name neighbourhood group neighbourhood  \\\n",
       "0            unconfirmed  Madaline            Brooklyn    Kensington   \n",
       "1               verified     Jenna           Manhattan       Midtown   \n",
       "2                    NaN     Elise           Manhattan        Harlem   \n",
       "3            unconfirmed     Garry            Brooklyn  Clinton Hill   \n",
       "4               verified    Lyndon           Manhattan   East Harlem   \n",
       "\n",
       "        lat      long        country  ... service fee minimum nights  \\\n",
       "0  40.64749 -73.97237  United States  ...       $193            10.0   \n",
       "1  40.75362 -73.98377  United States  ...        $28            30.0   \n",
       "2  40.80902 -73.94190  United States  ...       $124             3.0   \n",
       "3  40.68514 -73.95976  United States  ...        $74            30.0   \n",
       "4  40.79851 -73.94399  United States  ...        $41            10.0   \n",
       "\n",
       "  number of reviews last review  reviews per month review rate number  \\\n",
       "0               9.0  10/19/2021               0.21                4.0   \n",
       "1              45.0   5/21/2022               0.38                4.0   \n",
       "2               0.0         NaN                NaN                5.0   \n",
       "3             270.0    7/5/2019               4.64                4.0   \n",
       "4               9.0  11/19/2018               0.10                3.0   \n",
       "\n",
       "  calculated host listings count  availability 365  \\\n",
       "0                            6.0             286.0   \n",
       "1                            2.0             228.0   \n",
       "2                            1.0             352.0   \n",
       "3                            1.0             322.0   \n",
       "4                            1.0             289.0   \n",
       "\n",
       "                                         house_rules license  \n",
       "0  Clean up and treat the home the way you'd like...     NaN  \n",
       "1  Pet friendly but please confirm with me if the...     NaN  \n",
       "2  I encourage you to use my kitchen, cooking and...     NaN  \n",
       "3                                                NaN     NaN  \n",
       "4  Please no smoking in the house, porch or on th...     NaN  \n",
       "\n",
       "[5 rows x 26 columns]"
      ]
     },
     "execution_count": 3,
     "metadata": {},
     "output_type": "execute_result"
    }
   ],
   "source": [
    "open_data.head()"
   ]
  },
  {
   "cell_type": "code",
   "execution_count": 4,
   "metadata": {},
   "outputs": [
    {
     "name": "stdout",
     "output_type": "stream",
     "text": [
      "<class 'pandas.core.frame.DataFrame'>\n",
      "RangeIndex: 102599 entries, 0 to 102598\n",
      "Data columns (total 26 columns):\n",
      " #   Column                          Non-Null Count   Dtype  \n",
      "---  ------                          --------------   -----  \n",
      " 0   id                              102599 non-null  int64  \n",
      " 1   NAME                            102349 non-null  object \n",
      " 2   host id                         102599 non-null  int64  \n",
      " 3   host_identity_verified          102310 non-null  object \n",
      " 4   host name                       102193 non-null  object \n",
      " 5   neighbourhood group             102570 non-null  object \n",
      " 6   neighbourhood                   102583 non-null  object \n",
      " 7   lat                             102591 non-null  float64\n",
      " 8   long                            102591 non-null  float64\n",
      " 9   country                         102067 non-null  object \n",
      " 10  country code                    102468 non-null  object \n",
      " 11  instant_bookable                102494 non-null  object \n",
      " 12  cancellation_policy             102523 non-null  object \n",
      " 13  room type                       102599 non-null  object \n",
      " 14  Construction year               102385 non-null  float64\n",
      " 15  price                           102352 non-null  object \n",
      " 16  service fee                     102326 non-null  object \n",
      " 17  minimum nights                  102190 non-null  float64\n",
      " 18  number of reviews               102416 non-null  float64\n",
      " 19  last review                     86706 non-null   object \n",
      " 20  reviews per month               86720 non-null   float64\n",
      " 21  review rate number              102273 non-null  float64\n",
      " 22  calculated host listings count  102280 non-null  float64\n",
      " 23  availability 365                102151 non-null  float64\n",
      " 24  house_rules                     50468 non-null   object \n",
      " 25  license                         2 non-null       object \n",
      "dtypes: float64(9), int64(2), object(15)\n",
      "memory usage: 20.4+ MB\n"
     ]
    }
   ],
   "source": [
    "open_data.info()"
   ]
  },
  {
   "cell_type": "markdown",
   "metadata": {},
   "source": [
    "Could potentially use ID, neighborhood group, neighborhood, lat, long, service fee, minimum nights, number of reviews, last review, reviews per month, availability, "
   ]
  },
  {
   "cell_type": "code",
   "execution_count": 5,
   "metadata": {},
   "outputs": [
    {
     "data": {
      "text/html": [
       "<div>\n",
       "<style scoped>\n",
       "    .dataframe tbody tr th:only-of-type {\n",
       "        vertical-align: middle;\n",
       "    }\n",
       "\n",
       "    .dataframe tbody tr th {\n",
       "        vertical-align: top;\n",
       "    }\n",
       "\n",
       "    .dataframe thead th {\n",
       "        text-align: right;\n",
       "    }\n",
       "</style>\n",
       "<table border=\"1\" class=\"dataframe\">\n",
       "  <thead>\n",
       "    <tr style=\"text-align: right;\">\n",
       "      <th></th>\n",
       "      <th>id</th>\n",
       "      <th>NAME</th>\n",
       "      <th>host id</th>\n",
       "      <th>host_identity_verified</th>\n",
       "      <th>host name</th>\n",
       "      <th>neighbourhood group</th>\n",
       "      <th>neighbourhood</th>\n",
       "      <th>lat</th>\n",
       "      <th>long</th>\n",
       "      <th>country</th>\n",
       "      <th>...</th>\n",
       "      <th>price</th>\n",
       "      <th>service fee</th>\n",
       "      <th>minimum nights</th>\n",
       "      <th>number of reviews</th>\n",
       "      <th>last review</th>\n",
       "      <th>reviews per month</th>\n",
       "      <th>review rate number</th>\n",
       "      <th>calculated host listings count</th>\n",
       "      <th>availability 365</th>\n",
       "      <th>house_rules</th>\n",
       "    </tr>\n",
       "  </thead>\n",
       "  <tbody>\n",
       "    <tr>\n",
       "      <th>0</th>\n",
       "      <td>1001254</td>\n",
       "      <td>Clean &amp; quiet apt home by the park</td>\n",
       "      <td>80014485718</td>\n",
       "      <td>unconfirmed</td>\n",
       "      <td>Madaline</td>\n",
       "      <td>Brooklyn</td>\n",
       "      <td>Kensington</td>\n",
       "      <td>40.64749</td>\n",
       "      <td>-73.97237</td>\n",
       "      <td>United States</td>\n",
       "      <td>...</td>\n",
       "      <td>$966</td>\n",
       "      <td>$193</td>\n",
       "      <td>10.0</td>\n",
       "      <td>9.0</td>\n",
       "      <td>10/19/2021</td>\n",
       "      <td>0.21</td>\n",
       "      <td>4.0</td>\n",
       "      <td>6.0</td>\n",
       "      <td>286.0</td>\n",
       "      <td>Clean up and treat the home the way you'd like...</td>\n",
       "    </tr>\n",
       "    <tr>\n",
       "      <th>1</th>\n",
       "      <td>1002102</td>\n",
       "      <td>Skylit Midtown Castle</td>\n",
       "      <td>52335172823</td>\n",
       "      <td>verified</td>\n",
       "      <td>Jenna</td>\n",
       "      <td>Manhattan</td>\n",
       "      <td>Midtown</td>\n",
       "      <td>40.75362</td>\n",
       "      <td>-73.98377</td>\n",
       "      <td>United States</td>\n",
       "      <td>...</td>\n",
       "      <td>$142</td>\n",
       "      <td>$28</td>\n",
       "      <td>30.0</td>\n",
       "      <td>45.0</td>\n",
       "      <td>5/21/2022</td>\n",
       "      <td>0.38</td>\n",
       "      <td>4.0</td>\n",
       "      <td>2.0</td>\n",
       "      <td>228.0</td>\n",
       "      <td>Pet friendly but please confirm with me if the...</td>\n",
       "    </tr>\n",
       "    <tr>\n",
       "      <th>2</th>\n",
       "      <td>1002403</td>\n",
       "      <td>THE VILLAGE OF HARLEM....NEW YORK !</td>\n",
       "      <td>78829239556</td>\n",
       "      <td>NaN</td>\n",
       "      <td>Elise</td>\n",
       "      <td>Manhattan</td>\n",
       "      <td>Harlem</td>\n",
       "      <td>40.80902</td>\n",
       "      <td>-73.94190</td>\n",
       "      <td>United States</td>\n",
       "      <td>...</td>\n",
       "      <td>$620</td>\n",
       "      <td>$124</td>\n",
       "      <td>3.0</td>\n",
       "      <td>0.0</td>\n",
       "      <td>NaN</td>\n",
       "      <td>NaN</td>\n",
       "      <td>5.0</td>\n",
       "      <td>1.0</td>\n",
       "      <td>352.0</td>\n",
       "      <td>I encourage you to use my kitchen, cooking and...</td>\n",
       "    </tr>\n",
       "    <tr>\n",
       "      <th>3</th>\n",
       "      <td>1002755</td>\n",
       "      <td>NaN</td>\n",
       "      <td>85098326012</td>\n",
       "      <td>unconfirmed</td>\n",
       "      <td>Garry</td>\n",
       "      <td>Brooklyn</td>\n",
       "      <td>Clinton Hill</td>\n",
       "      <td>40.68514</td>\n",
       "      <td>-73.95976</td>\n",
       "      <td>United States</td>\n",
       "      <td>...</td>\n",
       "      <td>$368</td>\n",
       "      <td>$74</td>\n",
       "      <td>30.0</td>\n",
       "      <td>270.0</td>\n",
       "      <td>7/5/2019</td>\n",
       "      <td>4.64</td>\n",
       "      <td>4.0</td>\n",
       "      <td>1.0</td>\n",
       "      <td>322.0</td>\n",
       "      <td>NaN</td>\n",
       "    </tr>\n",
       "    <tr>\n",
       "      <th>4</th>\n",
       "      <td>1003689</td>\n",
       "      <td>Entire Apt: Spacious Studio/Loft by central park</td>\n",
       "      <td>92037596077</td>\n",
       "      <td>verified</td>\n",
       "      <td>Lyndon</td>\n",
       "      <td>Manhattan</td>\n",
       "      <td>East Harlem</td>\n",
       "      <td>40.79851</td>\n",
       "      <td>-73.94399</td>\n",
       "      <td>United States</td>\n",
       "      <td>...</td>\n",
       "      <td>$204</td>\n",
       "      <td>$41</td>\n",
       "      <td>10.0</td>\n",
       "      <td>9.0</td>\n",
       "      <td>11/19/2018</td>\n",
       "      <td>0.10</td>\n",
       "      <td>3.0</td>\n",
       "      <td>1.0</td>\n",
       "      <td>289.0</td>\n",
       "      <td>Please no smoking in the house, porch or on th...</td>\n",
       "    </tr>\n",
       "  </tbody>\n",
       "</table>\n",
       "<p>5 rows × 25 columns</p>\n",
       "</div>"
      ],
      "text/plain": [
       "        id                                              NAME      host id  \\\n",
       "0  1001254                Clean & quiet apt home by the park  80014485718   \n",
       "1  1002102                             Skylit Midtown Castle  52335172823   \n",
       "2  1002403               THE VILLAGE OF HARLEM....NEW YORK !  78829239556   \n",
       "3  1002755                                               NaN  85098326012   \n",
       "4  1003689  Entire Apt: Spacious Studio/Loft by central park  92037596077   \n",
       "\n",
       "  host_identity_verified host name neighbourhood group neighbourhood  \\\n",
       "0            unconfirmed  Madaline            Brooklyn    Kensington   \n",
       "1               verified     Jenna           Manhattan       Midtown   \n",
       "2                    NaN     Elise           Manhattan        Harlem   \n",
       "3            unconfirmed     Garry            Brooklyn  Clinton Hill   \n",
       "4               verified    Lyndon           Manhattan   East Harlem   \n",
       "\n",
       "        lat      long        country  ...  price service fee minimum nights  \\\n",
       "0  40.64749 -73.97237  United States  ...  $966        $193            10.0   \n",
       "1  40.75362 -73.98377  United States  ...  $142         $28            30.0   \n",
       "2  40.80902 -73.94190  United States  ...  $620        $124             3.0   \n",
       "3  40.68514 -73.95976  United States  ...  $368         $74            30.0   \n",
       "4  40.79851 -73.94399  United States  ...  $204         $41            10.0   \n",
       "\n",
       "  number of reviews  last review reviews per month review rate number  \\\n",
       "0               9.0   10/19/2021              0.21                4.0   \n",
       "1              45.0    5/21/2022              0.38                4.0   \n",
       "2               0.0          NaN               NaN                5.0   \n",
       "3             270.0     7/5/2019              4.64                4.0   \n",
       "4               9.0   11/19/2018              0.10                3.0   \n",
       "\n",
       "   calculated host listings count  availability 365  \\\n",
       "0                             6.0             286.0   \n",
       "1                             2.0             228.0   \n",
       "2                             1.0             352.0   \n",
       "3                             1.0             322.0   \n",
       "4                             1.0             289.0   \n",
       "\n",
       "                                         house_rules  \n",
       "0  Clean up and treat the home the way you'd like...  \n",
       "1  Pet friendly but please confirm with me if the...  \n",
       "2  I encourage you to use my kitchen, cooking and...  \n",
       "3                                                NaN  \n",
       "4  Please no smoking in the house, porch or on th...  \n",
       "\n",
       "[5 rows x 25 columns]"
      ]
     },
     "execution_count": 5,
     "metadata": {},
     "output_type": "execute_result"
    }
   ],
   "source": [
    "# Warning in column 25 due to multiple dtypes so removing for now \n",
    "open_data.drop(columns='license', axis=1, inplace = True)\n",
    "open_data.head()"
   ]
  },
  {
   "cell_type": "code",
   "execution_count": 6,
   "metadata": {},
   "outputs": [
    {
     "data": {
      "text/plain": [
       "(102599, 25)"
      ]
     },
     "execution_count": 6,
     "metadata": {},
     "output_type": "execute_result"
    }
   ],
   "source": [
    "open_data.shape"
   ]
  },
  {
   "cell_type": "markdown",
   "metadata": {},
   "source": [
    "Could find out neighborhood with most airbnbs, how long people use book for, "
   ]
  },
  {
   "cell_type": "code",
   "execution_count": 7,
   "metadata": {},
   "outputs": [
    {
     "data": {
      "text/plain": [
       "array(['United States', nan], dtype=object)"
      ]
     },
     "execution_count": 7,
     "metadata": {},
     "output_type": "execute_result"
    }
   ],
   "source": [
    "# Checking to see if this is a constant value\n",
    "open_data.country.unique()"
   ]
  },
  {
   "cell_type": "code",
   "execution_count": 8,
   "metadata": {},
   "outputs": [],
   "source": [
    "# Removing this column since it is constant\n",
    "open_data.drop(columns='country', axis=1, inplace = True)"
   ]
  },
  {
   "cell_type": "code",
   "execution_count": 78,
   "metadata": {},
   "outputs": [],
   "source": [
    "# Removing host id and host name b/c it's not necessary and last review for now\n",
    "main_columns = ['host_identity_verified','neighbourhood group','last review',\n",
    "               'neighbourhood','price','service fee', 'minimum nights', 'number of reviews',\n",
    "                'reviews per month', 'review rate number', \n",
    "               'calculated host listings count', 'availability 365']\n",
    "# Using these columns for Folium map later on in data analysis\n",
    "#df_foliumn = ['neighbourhood', 'price', 'lat', 'long' ]"
   ]
  },
  {
   "cell_type": "code",
   "execution_count": 10,
   "metadata": {},
   "outputs": [
    {
     "name": "stdout",
     "output_type": "stream",
     "text": [
      "<class 'pandas.core.frame.DataFrame'>\n",
      "RangeIndex: 102599 entries, 0 to 102598\n",
      "Data columns (total 12 columns):\n",
      " #   Column                          Non-Null Count   Dtype  \n",
      "---  ------                          --------------   -----  \n",
      " 0   host_identity_verified          102310 non-null  object \n",
      " 1   neighbourhood group             102570 non-null  object \n",
      " 2   last review                     86706 non-null   object \n",
      " 3   neighbourhood                   102583 non-null  object \n",
      " 4   price                           102352 non-null  object \n",
      " 5   service fee                     102326 non-null  object \n",
      " 6   minimum nights                  102190 non-null  float64\n",
      " 7   number of reviews               102416 non-null  float64\n",
      " 8   reviews per month               86720 non-null   float64\n",
      " 9   review rate number              102273 non-null  float64\n",
      " 10  calculated host listings count  102280 non-null  float64\n",
      " 11  availability 365                102151 non-null  float64\n",
      "dtypes: float64(6), object(6)\n",
      "memory usage: 9.4+ MB\n"
     ]
    }
   ],
   "source": [
    "data = open_data[main_columns]\n",
    "data.info()"
   ]
  },
  {
   "cell_type": "markdown",
   "metadata": {},
   "source": [
    "# Cleaning Data"
   ]
  },
  {
   "cell_type": "code",
   "execution_count": 11,
   "metadata": {},
   "outputs": [
    {
     "data": {
      "text/plain": [
       "host_identity_verified              289\n",
       "neighbourhood group                  29\n",
       "last review                       15893\n",
       "neighbourhood                        16\n",
       "price                               247\n",
       "service fee                         273\n",
       "minimum nights                      409\n",
       "number of reviews                   183\n",
       "reviews per month                 15879\n",
       "review rate number                  326\n",
       "calculated host listings count      319\n",
       "availability 365                    448\n",
       "dtype: int64"
      ]
     },
     "execution_count": 11,
     "metadata": {},
     "output_type": "execute_result"
    }
   ],
   "source": [
    "# Checking for NaNs\n",
    "data.isna().sum()"
   ]
  },
  {
   "cell_type": "code",
   "execution_count": 12,
   "metadata": {},
   "outputs": [
    {
     "data": {
      "text/plain": [
       "array(['unconfirmed', 'verified', nan], dtype=object)"
      ]
     },
     "execution_count": 12,
     "metadata": {},
     "output_type": "execute_result"
    }
   ],
   "source": [
    "data['host_identity_verified'].unique()"
   ]
  },
  {
   "cell_type": "code",
   "execution_count": 13,
   "metadata": {},
   "outputs": [
    {
     "data": {
      "text/plain": [
       "0"
      ]
     },
     "execution_count": 13,
     "metadata": {},
     "output_type": "execute_result"
    }
   ],
   "source": [
    "# Switching  host_identity_verified's NaNs to unconfirmed \n",
    "data['host_identity_verified'] = data['host_identity_verified'].fillna('unconfirmed')\n",
    "data['host_identity_verified'].isna().sum()\n",
    "#data.isna().sum()"
   ]
  },
  {
   "cell_type": "code",
   "execution_count": 14,
   "metadata": {},
   "outputs": [],
   "source": [
    "# Changing NaNs of host name to Unknown\n",
    "#data['host name'] = data['host name'].fillna('Unknown')\n",
    "#data.isna().sum()"
   ]
  },
  {
   "cell_type": "code",
   "execution_count": 15,
   "metadata": {},
   "outputs": [
    {
     "data": {
      "text/plain": [
       "host_identity_verified                0\n",
       "neighbourhood group                   0\n",
       "last review                       15889\n",
       "neighbourhood                         0\n",
       "price                               245\n",
       "service fee                         273\n",
       "minimum nights                      407\n",
       "number of reviews                   183\n",
       "reviews per month                 15877\n",
       "review rate number                  324\n",
       "calculated host listings count      319\n",
       "availability 365                    436\n",
       "dtype: int64"
      ]
     },
     "execution_count": 15,
     "metadata": {},
     "output_type": "execute_result"
    }
   ],
   "source": [
    "# Dropping the 29 NaNs from neighborhood group\n",
    "data.dropna(subset= ['neighbourhood group', 'neighbourhood'], inplace=True)\n",
    "data.isna().sum()"
   ]
  },
  {
   "cell_type": "code",
   "execution_count": 16,
   "metadata": {},
   "outputs": [
    {
     "data": {
      "text/plain": [
       "array(['Brooklyn', 'Manhattan', 'brookln', 'manhatan', 'Queens',\n",
       "       'Staten Island', 'Bronx'], dtype=object)"
      ]
     },
     "execution_count": 16,
     "metadata": {},
     "output_type": "execute_result"
    }
   ],
   "source": [
    "data['neighbourhood group'].unique()"
   ]
  },
  {
   "cell_type": "code",
   "execution_count": 17,
   "metadata": {},
   "outputs": [],
   "source": [
    "# Replacing brooklyn with Brooklyn and manhatan with Manhattan\n",
    "data.loc[:, ['neighbourhood group']] = data['neighbourhood group'].str.replace('brookln', 'Brooklyn')\n",
    "data.loc[:, ['neighbourhood group']] = data['neighbourhood group'].str.replace('manhatan', 'Manhattan')"
   ]
  },
  {
   "cell_type": "code",
   "execution_count": 18,
   "metadata": {},
   "outputs": [],
   "source": [
    "# Turning NaNs into $ for now\n",
    "#data['price'] = data['price'].fillna('0')"
   ]
  },
  {
   "cell_type": "code",
   "execution_count": 19,
   "metadata": {},
   "outputs": [],
   "source": [
    "data.loc[:, ['price']] = data['price'].fillna('0')"
   ]
  },
  {
   "cell_type": "code",
   "execution_count": 20,
   "metadata": {},
   "outputs": [
    {
     "data": {
      "text/plain": [
       "dtype('int64')"
      ]
     },
     "execution_count": 20,
     "metadata": {},
     "output_type": "execute_result"
    }
   ],
   "source": [
    "# Replacing NaNs in Price column with the average price of an Airbnb in NY\n",
    "# First need to convert str to integer\n",
    "data.loc[:, ['price']] = data['price'].str.replace(',', '')\n",
    "data.loc[:, ['price']] = data['price'].str.replace('$', '')\n",
    "data.loc[:, ['price']] = data['price'].astype(int)\n",
    "data['price'].dtype\n"
   ]
  },
  {
   "cell_type": "code",
   "execution_count": 21,
   "metadata": {},
   "outputs": [],
   "source": [
    "# Now they are all integers we need to turn all the 0's into the price avg\n",
    "#data.loc[:, ['price']] = data['price'].replace(to_replace = 0, value = data['price'].mean(), inplace=True)\n",
    "#data.isna().sum()"
   ]
  },
  {
   "cell_type": "code",
   "execution_count": 22,
   "metadata": {},
   "outputs": [],
   "source": [
    "# Replacing NaNs of Service fee\n",
    "data.loc[:, ['service fee']] = data['service fee'].fillna('0')"
   ]
  },
  {
   "cell_type": "code",
   "execution_count": 23,
   "metadata": {},
   "outputs": [
    {
     "data": {
      "text/plain": [
       "dtype('int64')"
      ]
     },
     "execution_count": 23,
     "metadata": {},
     "output_type": "execute_result"
    }
   ],
   "source": [
    "# Doing the same thing with service fee\n",
    "data.loc[:, ['service fee']] = data['service fee'].str.replace(',', '')\n",
    "data.loc[:, ['service fee']] = data['service fee'].str.replace('$', '')\n",
    "data.loc[:, ['service fee']] = data['service fee'].astype(int)\n",
    "data['service fee'].dtype"
   ]
  },
  {
   "cell_type": "code",
   "execution_count": 24,
   "metadata": {},
   "outputs": [
    {
     "data": {
      "text/plain": [
       "host_identity_verified                0\n",
       "neighbourhood group                   0\n",
       "last review                       15889\n",
       "neighbourhood                         0\n",
       "price                                 0\n",
       "service fee                           0\n",
       "minimum nights                      407\n",
       "number of reviews                   183\n",
       "reviews per month                 15877\n",
       "review rate number                  324\n",
       "calculated host listings count      319\n",
       "availability 365                    436\n",
       "dtype: int64"
      ]
     },
     "execution_count": 24,
     "metadata": {},
     "output_type": "execute_result"
    }
   ],
   "source": [
    "data.isna().sum()"
   ]
  },
  {
   "cell_type": "code",
   "execution_count": 25,
   "metadata": {},
   "outputs": [],
   "source": [
    "data.loc[:, ['minimum nights']] = data['minimum nights'].fillna(0).astype(int)"
   ]
  },
  {
   "cell_type": "code",
   "execution_count": 26,
   "metadata": {},
   "outputs": [],
   "source": [
    "# Convert rest of strings into integers\n",
    "data.loc[:, ['minimum nights']] = data['minimum nights'].astype(int)"
   ]
  },
  {
   "cell_type": "code",
   "execution_count": 27,
   "metadata": {},
   "outputs": [],
   "source": [
    "# Replace temp 0's with minimum night avg\n",
    "data.loc[:, ['minimum nights']]= data.loc[:, ['minimum nights']].replace(to_replace=0, value = data['minimum nights'].mean())"
   ]
  },
  {
   "cell_type": "code",
   "execution_count": 28,
   "metadata": {},
   "outputs": [
    {
     "data": {
      "text/plain": [
       "host_identity_verified                0\n",
       "neighbourhood group                   0\n",
       "last review                       15889\n",
       "neighbourhood                         0\n",
       "price                                 0\n",
       "service fee                           0\n",
       "minimum nights                        0\n",
       "number of reviews                   183\n",
       "reviews per month                 15877\n",
       "review rate number                  324\n",
       "calculated host listings count      319\n",
       "availability 365                    436\n",
       "dtype: int64"
      ]
     },
     "execution_count": 28,
     "metadata": {},
     "output_type": "execute_result"
    }
   ],
   "source": [
    "data.isna().sum()"
   ]
  },
  {
   "cell_type": "code",
   "execution_count": 29,
   "metadata": {},
   "outputs": [],
   "source": [
    "# Replace NaNs with # of Review avg\n",
    "data.loc[:, ['number of reviews']] = data.loc[:, ['number of reviews']].replace(to_replace = np.nan, value =data['number of reviews'].mean())"
   ]
  },
  {
   "cell_type": "code",
   "execution_count": 30,
   "metadata": {},
   "outputs": [
    {
     "data": {
      "text/plain": [
       "host_identity_verified                0\n",
       "neighbourhood group                   0\n",
       "last review                       15889\n",
       "neighbourhood                         0\n",
       "price                                 0\n",
       "service fee                           0\n",
       "minimum nights                        0\n",
       "number of reviews                     0\n",
       "reviews per month                 15877\n",
       "review rate number                  324\n",
       "calculated host listings count      319\n",
       "availability 365                    436\n",
       "dtype: int64"
      ]
     },
     "execution_count": 30,
     "metadata": {},
     "output_type": "execute_result"
    }
   ],
   "source": [
    "# Convert floats to Intergers\n",
    "data.loc[:, ['number of reviews']] = data.loc[:, ['number of reviews']].astype(int)\n",
    "data.isna().sum()"
   ]
  },
  {
   "cell_type": "code",
   "execution_count": 31,
   "metadata": {},
   "outputs": [
    {
     "data": {
      "text/plain": [
       "host_identity_verified              0\n",
       "neighbourhood group                 0\n",
       "last review                         0\n",
       "neighbourhood                       0\n",
       "price                               0\n",
       "service fee                         0\n",
       "minimum nights                      0\n",
       "number of reviews                   0\n",
       "reviews per month                  12\n",
       "review rate number                287\n",
       "calculated host listings count    261\n",
       "availability 365                  170\n",
       "dtype: int64"
      ]
     },
     "execution_count": 31,
     "metadata": {},
     "output_type": "execute_result"
    }
   ],
   "source": [
    "# Replace NaNs with N/A because there is too much useful data to drop\n",
    "data.dropna(subset=['last review'], inplace=True)\n",
    "# Using N/A in place of the NaNs\n",
    "#data['last review'] = data['last review'].fillna('N/A')\n",
    "data.isna().sum()"
   ]
  },
  {
   "cell_type": "code",
   "execution_count": 32,
   "metadata": {},
   "outputs": [],
   "source": [
    "# Converting last review column to datatime dtype\n",
    "\n",
    "data['last review'] = pd.to_datetime(data['last review'])"
   ]
  },
  {
   "cell_type": "code",
   "execution_count": 33,
   "metadata": {},
   "outputs": [
    {
     "data": {
      "text/plain": [
       "0        2021-10-19\n",
       "1        2022-05-21\n",
       "3        2019-07-05\n",
       "4        2018-11-19\n",
       "5        2019-06-22\n",
       "            ...    \n",
       "102588   2019-06-29\n",
       "102591   2019-01-04\n",
       "102593   2015-09-06\n",
       "102595   2015-07-06\n",
       "102597   2015-10-11\n",
       "Name: last review, Length: 86665, dtype: datetime64[ns]"
      ]
     },
     "execution_count": 33,
     "metadata": {},
     "output_type": "execute_result"
    }
   ],
   "source": [
    "data['last review']"
   ]
  },
  {
   "cell_type": "code",
   "execution_count": 34,
   "metadata": {},
   "outputs": [],
   "source": [
    "# Create 3 new columns for year, month, and day\n",
    "#Year\n",
    "data['lr_year'] = pd.DatetimeIndex(data['last review']).year\n",
    "#Month\n",
    "data['lr_month'] = pd.DatetimeIndex(data['last review']).month\n",
    "#Day\n",
    "data['lr_day'] = pd.DatetimeIndex(data['last review']).day\n"
   ]
  },
  {
   "cell_type": "code",
   "execution_count": 35,
   "metadata": {},
   "outputs": [
    {
     "name": "stdout",
     "output_type": "stream",
     "text": [
      "<class 'pandas.core.frame.DataFrame'>\n",
      "Int64Index: 86665 entries, 0 to 102597\n",
      "Data columns (total 14 columns):\n",
      " #   Column                          Non-Null Count  Dtype  \n",
      "---  ------                          --------------  -----  \n",
      " 0   host_identity_verified          86665 non-null  object \n",
      " 1   neighbourhood group             86665 non-null  object \n",
      " 2   neighbourhood                   86665 non-null  object \n",
      " 3   price                           86665 non-null  int64  \n",
      " 4   service fee                     86665 non-null  int64  \n",
      " 5   minimum nights                  86665 non-null  float64\n",
      " 6   number of reviews               86665 non-null  int64  \n",
      " 7   reviews per month               86653 non-null  float64\n",
      " 8   review rate number              86378 non-null  float64\n",
      " 9   calculated host listings count  86404 non-null  float64\n",
      " 10  availability 365                86495 non-null  float64\n",
      " 11  lr_year                         86665 non-null  int64  \n",
      " 12  lr_month                        86665 non-null  int64  \n",
      " 13  lr_day                          86665 non-null  int64  \n",
      "dtypes: float64(5), int64(6), object(3)\n",
      "memory usage: 9.9+ MB\n"
     ]
    }
   ],
   "source": [
    "# No need for the last review column anymore so dropping it\n",
    "data.drop(columns ='last review', axis=1, inplace=True)\n",
    "data.info()"
   ]
  },
  {
   "cell_type": "code",
   "execution_count": 36,
   "metadata": {},
   "outputs": [
    {
     "data": {
      "text/plain": [
       "host_identity_verified              0\n",
       "neighbourhood group                 0\n",
       "neighbourhood                       0\n",
       "price                               0\n",
       "service fee                         0\n",
       "minimum nights                      0\n",
       "number of reviews                   0\n",
       "reviews per month                   0\n",
       "review rate number                287\n",
       "calculated host listings count    261\n",
       "availability 365                  170\n",
       "lr_year                             0\n",
       "lr_month                            0\n",
       "lr_day                              0\n",
       "dtype: int64"
      ]
     },
     "execution_count": 36,
     "metadata": {},
     "output_type": "execute_result"
    }
   ],
   "source": [
    "# Replace NaNs with average of reviews per month because there is too much useful data to drop\n",
    "#data['reviews per month'] = data['reviews per month'].fillna('N/A')\n",
    "data.loc[:, ['reviews per month']] = data.loc[:, ['reviews per month']].replace(to_replace = np.nan, value =data['reviews per month'].mean())\n",
    "data.isna().sum()"
   ]
  },
  {
   "cell_type": "code",
   "execution_count": 37,
   "metadata": {},
   "outputs": [],
   "source": [
    "# Convert last review to datetime\n",
    "# data['last review'] = pd.to_datetime(data['last review'])"
   ]
  },
  {
   "cell_type": "code",
   "execution_count": 38,
   "metadata": {},
   "outputs": [
    {
     "data": {
      "text/plain": [
       "host_identity_verified            0\n",
       "neighbourhood group               0\n",
       "neighbourhood                     0\n",
       "price                             0\n",
       "service fee                       0\n",
       "minimum nights                    0\n",
       "number of reviews                 0\n",
       "reviews per month                 0\n",
       "review rate number                0\n",
       "calculated host listings count    0\n",
       "availability 365                  0\n",
       "lr_year                           0\n",
       "lr_month                          0\n",
       "lr_day                            0\n",
       "dtype: int64"
      ]
     },
     "execution_count": 38,
     "metadata": {},
     "output_type": "execute_result"
    }
   ],
   "source": [
    "# Dropping NaNs of Review rate number, calculated host listings, and availability \n",
    "data.dropna(subset= ['review rate number', 'calculated host listings count', 'availability 365'], inplace=True)\n",
    "data.isna().sum()"
   ]
  },
  {
   "cell_type": "code",
   "execution_count": 39,
   "metadata": {},
   "outputs": [
    {
     "name": "stdout",
     "output_type": "stream",
     "text": [
      "<class 'pandas.core.frame.DataFrame'>\n",
      "Int64Index: 86017 entries, 0 to 102597\n",
      "Data columns (total 14 columns):\n",
      " #   Column                          Non-Null Count  Dtype  \n",
      "---  ------                          --------------  -----  \n",
      " 0   host_identity_verified          86017 non-null  object \n",
      " 1   neighbourhood group             86017 non-null  object \n",
      " 2   neighbourhood                   86017 non-null  object \n",
      " 3   price                           86017 non-null  int64  \n",
      " 4   service fee                     86017 non-null  int64  \n",
      " 5   minimum nights                  86017 non-null  float64\n",
      " 6   number of reviews               86017 non-null  int64  \n",
      " 7   reviews per month               86017 non-null  float64\n",
      " 8   review rate number              86017 non-null  float64\n",
      " 9   calculated host listings count  86017 non-null  float64\n",
      " 10  availability 365                86017 non-null  float64\n",
      " 11  lr_year                         86017 non-null  int64  \n",
      " 12  lr_month                        86017 non-null  int64  \n",
      " 13  lr_day                          86017 non-null  int64  \n",
      "dtypes: float64(5), int64(6), object(3)\n",
      "memory usage: 9.8+ MB\n"
     ]
    }
   ],
   "source": [
    "data.info()"
   ]
  },
  {
   "cell_type": "code",
   "execution_count": 40,
   "metadata": {},
   "outputs": [
    {
     "data": {
      "text/html": [
       "<div>\n",
       "<style scoped>\n",
       "    .dataframe tbody tr th:only-of-type {\n",
       "        vertical-align: middle;\n",
       "    }\n",
       "\n",
       "    .dataframe tbody tr th {\n",
       "        vertical-align: top;\n",
       "    }\n",
       "\n",
       "    .dataframe thead th {\n",
       "        text-align: right;\n",
       "    }\n",
       "</style>\n",
       "<table border=\"1\" class=\"dataframe\">\n",
       "  <thead>\n",
       "    <tr style=\"text-align: right;\">\n",
       "      <th></th>\n",
       "      <th>host_identity_verified</th>\n",
       "      <th>neighbourhood group</th>\n",
       "      <th>neighbourhood</th>\n",
       "      <th>price</th>\n",
       "      <th>service fee</th>\n",
       "      <th>minimum nights</th>\n",
       "      <th>number of reviews</th>\n",
       "      <th>reviews per month</th>\n",
       "      <th>review rate number</th>\n",
       "      <th>calculated host listings count</th>\n",
       "      <th>availability 365</th>\n",
       "      <th>lr_year</th>\n",
       "      <th>lr_month</th>\n",
       "      <th>lr_day</th>\n",
       "    </tr>\n",
       "  </thead>\n",
       "  <tbody>\n",
       "    <tr>\n",
       "      <th>0</th>\n",
       "      <td>unconfirmed</td>\n",
       "      <td>Brooklyn</td>\n",
       "      <td>Kensington</td>\n",
       "      <td>966</td>\n",
       "      <td>193</td>\n",
       "      <td>10.0</td>\n",
       "      <td>9</td>\n",
       "      <td>0.21</td>\n",
       "      <td>4.0</td>\n",
       "      <td>6.0</td>\n",
       "      <td>286.0</td>\n",
       "      <td>2021</td>\n",
       "      <td>10</td>\n",
       "      <td>19</td>\n",
       "    </tr>\n",
       "    <tr>\n",
       "      <th>1</th>\n",
       "      <td>verified</td>\n",
       "      <td>Manhattan</td>\n",
       "      <td>Midtown</td>\n",
       "      <td>142</td>\n",
       "      <td>28</td>\n",
       "      <td>30.0</td>\n",
       "      <td>45</td>\n",
       "      <td>0.38</td>\n",
       "      <td>4.0</td>\n",
       "      <td>2.0</td>\n",
       "      <td>228.0</td>\n",
       "      <td>2022</td>\n",
       "      <td>5</td>\n",
       "      <td>21</td>\n",
       "    </tr>\n",
       "    <tr>\n",
       "      <th>3</th>\n",
       "      <td>unconfirmed</td>\n",
       "      <td>Brooklyn</td>\n",
       "      <td>Clinton Hill</td>\n",
       "      <td>368</td>\n",
       "      <td>74</td>\n",
       "      <td>30.0</td>\n",
       "      <td>270</td>\n",
       "      <td>4.64</td>\n",
       "      <td>4.0</td>\n",
       "      <td>1.0</td>\n",
       "      <td>322.0</td>\n",
       "      <td>2019</td>\n",
       "      <td>7</td>\n",
       "      <td>5</td>\n",
       "    </tr>\n",
       "    <tr>\n",
       "      <th>4</th>\n",
       "      <td>verified</td>\n",
       "      <td>Manhattan</td>\n",
       "      <td>East Harlem</td>\n",
       "      <td>204</td>\n",
       "      <td>41</td>\n",
       "      <td>10.0</td>\n",
       "      <td>9</td>\n",
       "      <td>0.10</td>\n",
       "      <td>3.0</td>\n",
       "      <td>1.0</td>\n",
       "      <td>289.0</td>\n",
       "      <td>2018</td>\n",
       "      <td>11</td>\n",
       "      <td>19</td>\n",
       "    </tr>\n",
       "    <tr>\n",
       "      <th>5</th>\n",
       "      <td>verified</td>\n",
       "      <td>Manhattan</td>\n",
       "      <td>Murray Hill</td>\n",
       "      <td>577</td>\n",
       "      <td>115</td>\n",
       "      <td>3.0</td>\n",
       "      <td>74</td>\n",
       "      <td>0.59</td>\n",
       "      <td>3.0</td>\n",
       "      <td>1.0</td>\n",
       "      <td>374.0</td>\n",
       "      <td>2019</td>\n",
       "      <td>6</td>\n",
       "      <td>22</td>\n",
       "    </tr>\n",
       "  </tbody>\n",
       "</table>\n",
       "</div>"
      ],
      "text/plain": [
       "  host_identity_verified neighbourhood group neighbourhood  price  \\\n",
       "0            unconfirmed            Brooklyn    Kensington    966   \n",
       "1               verified           Manhattan       Midtown    142   \n",
       "3            unconfirmed            Brooklyn  Clinton Hill    368   \n",
       "4               verified           Manhattan   East Harlem    204   \n",
       "5               verified           Manhattan   Murray Hill    577   \n",
       "\n",
       "   service fee  minimum nights  number of reviews  reviews per month  \\\n",
       "0          193            10.0                  9               0.21   \n",
       "1           28            30.0                 45               0.38   \n",
       "3           74            30.0                270               4.64   \n",
       "4           41            10.0                  9               0.10   \n",
       "5          115             3.0                 74               0.59   \n",
       "\n",
       "   review rate number  calculated host listings count  availability 365  \\\n",
       "0                 4.0                             6.0             286.0   \n",
       "1                 4.0                             2.0             228.0   \n",
       "3                 4.0                             1.0             322.0   \n",
       "4                 3.0                             1.0             289.0   \n",
       "5                 3.0                             1.0             374.0   \n",
       "\n",
       "   lr_year  lr_month  lr_day  \n",
       "0     2021        10      19  \n",
       "1     2022         5      21  \n",
       "3     2019         7       5  \n",
       "4     2018        11      19  \n",
       "5     2019         6      22  "
      ]
     },
     "execution_count": 40,
     "metadata": {},
     "output_type": "execute_result"
    }
   ],
   "source": [
    "data.head()"
   ]
  },
  {
   "cell_type": "code",
   "execution_count": 41,
   "metadata": {},
   "outputs": [
    {
     "data": {
      "text/html": [
       "<div>\n",
       "<style scoped>\n",
       "    .dataframe tbody tr th:only-of-type {\n",
       "        vertical-align: middle;\n",
       "    }\n",
       "\n",
       "    .dataframe tbody tr th {\n",
       "        vertical-align: top;\n",
       "    }\n",
       "\n",
       "    .dataframe thead th {\n",
       "        text-align: right;\n",
       "    }\n",
       "</style>\n",
       "<table border=\"1\" class=\"dataframe\">\n",
       "  <thead>\n",
       "    <tr style=\"text-align: right;\">\n",
       "      <th></th>\n",
       "      <th>price</th>\n",
       "      <th>service fee</th>\n",
       "      <th>minimum nights</th>\n",
       "      <th>number of reviews</th>\n",
       "      <th>reviews per month</th>\n",
       "      <th>review rate number</th>\n",
       "      <th>calculated host listings count</th>\n",
       "      <th>availability 365</th>\n",
       "      <th>lr_year</th>\n",
       "      <th>lr_month</th>\n",
       "      <th>lr_day</th>\n",
       "    </tr>\n",
       "  </thead>\n",
       "  <tbody>\n",
       "    <tr>\n",
       "      <th>count</th>\n",
       "      <td>86017.000000</td>\n",
       "      <td>86017.000000</td>\n",
       "      <td>86017.000000</td>\n",
       "      <td>86017.000000</td>\n",
       "      <td>86017.000000</td>\n",
       "      <td>86017.000000</td>\n",
       "      <td>86017.000000</td>\n",
       "      <td>86017.000000</td>\n",
       "      <td>86017.000000</td>\n",
       "      <td>86017.000000</td>\n",
       "      <td>86017.000000</td>\n",
       "    </tr>\n",
       "    <tr>\n",
       "      <th>mean</th>\n",
       "      <td>624.511922</td>\n",
       "      <td>124.830336</td>\n",
       "      <td>7.471016</td>\n",
       "      <td>32.253183</td>\n",
       "      <td>1.373066</td>\n",
       "      <td>3.279329</td>\n",
       "      <td>7.030122</td>\n",
       "      <td>141.920225</td>\n",
       "      <td>2018.997059</td>\n",
       "      <td>5.903077</td>\n",
       "      <td>15.849367</td>\n",
       "    </tr>\n",
       "    <tr>\n",
       "      <th>std</th>\n",
       "      <td>332.793549</td>\n",
       "      <td>66.575394</td>\n",
       "      <td>27.907669</td>\n",
       "      <td>51.883511</td>\n",
       "      <td>1.744690</td>\n",
       "      <td>1.283225</td>\n",
       "      <td>29.380053</td>\n",
       "      <td>133.910756</td>\n",
       "      <td>1.668733</td>\n",
       "      <td>3.026654</td>\n",
       "      <td>9.814242</td>\n",
       "    </tr>\n",
       "    <tr>\n",
       "      <th>min</th>\n",
       "      <td>0.000000</td>\n",
       "      <td>0.000000</td>\n",
       "      <td>-365.000000</td>\n",
       "      <td>1.000000</td>\n",
       "      <td>0.010000</td>\n",
       "      <td>1.000000</td>\n",
       "      <td>1.000000</td>\n",
       "      <td>-10.000000</td>\n",
       "      <td>2012.000000</td>\n",
       "      <td>1.000000</td>\n",
       "      <td>1.000000</td>\n",
       "    </tr>\n",
       "    <tr>\n",
       "      <th>25%</th>\n",
       "      <td>338.000000</td>\n",
       "      <td>68.000000</td>\n",
       "      <td>2.000000</td>\n",
       "      <td>3.000000</td>\n",
       "      <td>0.220000</td>\n",
       "      <td>2.000000</td>\n",
       "      <td>1.000000</td>\n",
       "      <td>6.000000</td>\n",
       "      <td>2018.000000</td>\n",
       "      <td>4.000000</td>\n",
       "      <td>6.000000</td>\n",
       "    </tr>\n",
       "    <tr>\n",
       "      <th>50%</th>\n",
       "      <td>623.000000</td>\n",
       "      <td>125.000000</td>\n",
       "      <td>3.000000</td>\n",
       "      <td>11.000000</td>\n",
       "      <td>0.740000</td>\n",
       "      <td>3.000000</td>\n",
       "      <td>1.000000</td>\n",
       "      <td>101.000000</td>\n",
       "      <td>2019.000000</td>\n",
       "      <td>6.000000</td>\n",
       "      <td>17.000000</td>\n",
       "    </tr>\n",
       "    <tr>\n",
       "      <th>75%</th>\n",
       "      <td>913.000000</td>\n",
       "      <td>183.000000</td>\n",
       "      <td>5.000000</td>\n",
       "      <td>38.000000</td>\n",
       "      <td>2.000000</td>\n",
       "      <td>4.000000</td>\n",
       "      <td>2.000000</td>\n",
       "      <td>266.000000</td>\n",
       "      <td>2019.000000</td>\n",
       "      <td>7.000000</td>\n",
       "      <td>24.000000</td>\n",
       "    </tr>\n",
       "    <tr>\n",
       "      <th>max</th>\n",
       "      <td>1200.000000</td>\n",
       "      <td>240.000000</td>\n",
       "      <td>5645.000000</td>\n",
       "      <td>1024.000000</td>\n",
       "      <td>90.000000</td>\n",
       "      <td>5.000000</td>\n",
       "      <td>332.000000</td>\n",
       "      <td>3677.000000</td>\n",
       "      <td>2058.000000</td>\n",
       "      <td>12.000000</td>\n",
       "      <td>31.000000</td>\n",
       "    </tr>\n",
       "  </tbody>\n",
       "</table>\n",
       "</div>"
      ],
      "text/plain": [
       "              price   service fee  minimum nights  number of reviews  \\\n",
       "count  86017.000000  86017.000000    86017.000000       86017.000000   \n",
       "mean     624.511922    124.830336        7.471016          32.253183   \n",
       "std      332.793549     66.575394       27.907669          51.883511   \n",
       "min        0.000000      0.000000     -365.000000           1.000000   \n",
       "25%      338.000000     68.000000        2.000000           3.000000   \n",
       "50%      623.000000    125.000000        3.000000          11.000000   \n",
       "75%      913.000000    183.000000        5.000000          38.000000   \n",
       "max     1200.000000    240.000000     5645.000000        1024.000000   \n",
       "\n",
       "       reviews per month  review rate number  calculated host listings count  \\\n",
       "count       86017.000000        86017.000000                    86017.000000   \n",
       "mean            1.373066            3.279329                        7.030122   \n",
       "std             1.744690            1.283225                       29.380053   \n",
       "min             0.010000            1.000000                        1.000000   \n",
       "25%             0.220000            2.000000                        1.000000   \n",
       "50%             0.740000            3.000000                        1.000000   \n",
       "75%             2.000000            4.000000                        2.000000   \n",
       "max            90.000000            5.000000                      332.000000   \n",
       "\n",
       "       availability 365       lr_year      lr_month        lr_day  \n",
       "count      86017.000000  86017.000000  86017.000000  86017.000000  \n",
       "mean         141.920225   2018.997059      5.903077     15.849367  \n",
       "std          133.910756      1.668733      3.026654      9.814242  \n",
       "min          -10.000000   2012.000000      1.000000      1.000000  \n",
       "25%            6.000000   2018.000000      4.000000      6.000000  \n",
       "50%          101.000000   2019.000000      6.000000     17.000000  \n",
       "75%          266.000000   2019.000000      7.000000     24.000000  \n",
       "max         3677.000000   2058.000000     12.000000     31.000000  "
      ]
     },
     "execution_count": 41,
     "metadata": {},
     "output_type": "execute_result"
    }
   ],
   "source": [
    "data.describe()"
   ]
  },
  {
   "cell_type": "markdown",
   "metadata": {},
   "source": [
    "## Checking Value Counts of Columns"
   ]
  },
  {
   "cell_type": "markdown",
   "metadata": {},
   "source": [
    "There are over 10,000 columns when data is one hot encoded, so this number needs to be reduced."
   ]
  },
  {
   "cell_type": "code",
   "execution_count": 42,
   "metadata": {},
   "outputs": [
    {
     "data": {
      "text/plain": [
       "unconfirmed    43147\n",
       "verified       42870\n",
       "Name: host_identity_verified, dtype: int64"
      ]
     },
     "execution_count": 42,
     "metadata": {},
     "output_type": "execute_result"
    }
   ],
   "source": [
    "data['host_identity_verified'].value_counts()"
   ]
  },
  {
   "cell_type": "markdown",
   "metadata": {},
   "source": [
    "This just has 2 different values."
   ]
  },
  {
   "cell_type": "code",
   "execution_count": 43,
   "metadata": {},
   "outputs": [],
   "source": [
    "#data['host name'].value_counts(normalize=True).to_frame().style.format('{:.2%}')"
   ]
  },
  {
   "cell_type": "markdown",
   "metadata": {},
   "source": [
    "Has 13131 different hosts. To reduce this amount, hosts with only 5% of the total value counts will be categorized as \"Other\"."
   ]
  },
  {
   "cell_type": "code",
   "execution_count": 44,
   "metadata": {},
   "outputs": [],
   "source": [
    "#data.loc[:, ['reviews per month']]\n",
    "#data['host name'].value_counts(normalize=True).mul(100).round(1).astype(str) + '%'"
   ]
  },
  {
   "cell_type": "code",
   "execution_count": 45,
   "metadata": {},
   "outputs": [
    {
     "data": {
      "text/plain": [
       "Brooklyn         35699\n",
       "Manhattan        35685\n",
       "Queens           11445\n",
       "Bronx             2340\n",
       "Staten Island      848\n",
       "Name: neighbourhood group, dtype: int64"
      ]
     },
     "execution_count": 45,
     "metadata": {},
     "output_type": "execute_result"
    }
   ],
   "source": [
    "data['neighbourhood group'].value_counts()"
   ]
  },
  {
   "cell_type": "markdown",
   "metadata": {},
   "source": [
    "There are only 5 neighborhood groups."
   ]
  },
  {
   "cell_type": "code",
   "execution_count": 46,
   "metadata": {},
   "outputs": [
    {
     "data": {
      "text/plain": [
       "Bedford-Stuyvesant        6963\n",
       "Williamsburg              6526\n",
       "Harlem                    4712\n",
       "Bushwick                  4102\n",
       "Hell's Kitchen            3275\n",
       "                          ... \n",
       "Willowbrook                  3\n",
       "Glen Oaks                    2\n",
       "Chelsea, Staten Island       1\n",
       "New Dorp                     1\n",
       "Woodrow                      1\n",
       "Name: neighbourhood, Length: 223, dtype: int64"
      ]
     },
     "execution_count": 46,
     "metadata": {},
     "output_type": "execute_result"
    }
   ],
   "source": [
    "data['neighbourhood'].value_counts()"
   ]
  },
  {
   "cell_type": "code",
   "execution_count": 47,
   "metadata": {},
   "outputs": [
    {
     "data": {
      "text/plain": [
       "Bedford-Stuyvesant        0.080949\n",
       "Williamsburg              0.075869\n",
       "Harlem                    0.054780\n",
       "Bushwick                  0.047688\n",
       "Hell's Kitchen            0.038074\n",
       "                            ...   \n",
       "Willowbrook               0.000035\n",
       "Glen Oaks                 0.000023\n",
       "Chelsea, Staten Island    0.000012\n",
       "New Dorp                  0.000012\n",
       "Woodrow                   0.000012\n",
       "Name: neighbourhood, Length: 223, dtype: float64"
      ]
     },
     "execution_count": 47,
     "metadata": {},
     "output_type": "execute_result"
    }
   ],
   "source": [
    "data['neighbourhood'].value_counts(normalize=True)"
   ]
  },
  {
   "cell_type": "code",
   "execution_count": 48,
   "metadata": {},
   "outputs": [
    {
     "data": {
      "text/plain": [
       "Bedford-Stuyvesant        8.1%\n",
       "Williamsburg              7.6%\n",
       "Harlem                    5.5%\n",
       "Bushwick                  4.8%\n",
       "Hell's Kitchen            3.8%\n",
       "                          ... \n",
       "Willowbrook               0.0%\n",
       "Glen Oaks                 0.0%\n",
       "Chelsea, Staten Island    0.0%\n",
       "New Dorp                  0.0%\n",
       "Woodrow                   0.0%\n",
       "Name: neighbourhood, Length: 223, dtype: object"
      ]
     },
     "execution_count": 48,
     "metadata": {},
     "output_type": "execute_result"
    }
   ],
   "source": [
    "data['neighbourhood'].value_counts(normalize=True).mul(100).round(1).astype(str) + '%' "
   ]
  },
  {
   "cell_type": "code",
   "execution_count": 49,
   "metadata": {},
   "outputs": [
    {
     "data": {
      "text/plain": [
       "[6963,\n",
       " 6526,\n",
       " 4712,\n",
       " 4102,\n",
       " 3275,\n",
       " 3101,\n",
       " 3031,\n",
       " 2891,\n",
       " 2774,\n",
       " 2496,\n",
       " 2047,\n",
       " 1832,\n",
       " 1721,\n",
       " 1654,\n",
       " 1565,\n",
       " 1470,\n",
       " 1229,\n",
       " 1137,\n",
       " 1087,\n",
       " 1083,\n",
       " 1022,\n",
       " 982,\n",
       " 951,\n",
       " 882,\n",
       " 848,\n",
       " 803,\n",
       " 743,\n",
       " 720,\n",
       " 708,\n",
       " 694,\n",
       " 683,\n",
       " 678,\n",
       " 609,\n",
       " 602,\n",
       " 585,\n",
       " 579,\n",
       " 570,\n",
       " 566,\n",
       " 545,\n",
       " 503,\n",
       " 497,\n",
       " 467,\n",
       " 466,\n",
       " 464,\n",
       " 457,\n",
       " 446,\n",
       " 433,\n",
       " 421,\n",
       " 414,\n",
       " 383,\n",
       " 382,\n",
       " 318,\n",
       " 308,\n",
       " 302,\n",
       " 298,\n",
       " 280,\n",
       " 261,\n",
       " 260,\n",
       " 253,\n",
       " 246,\n",
       " 239,\n",
       " 231,\n",
       " 223,\n",
       " 209,\n",
       " 207,\n",
       " 204,\n",
       " 203,\n",
       " 197,\n",
       " 190,\n",
       " 190,\n",
       " 180,\n",
       " 170,\n",
       " 166,\n",
       " 162,\n",
       " 156,\n",
       " 154,\n",
       " 147,\n",
       " 146,\n",
       " 143,\n",
       " 137,\n",
       " 135,\n",
       " 134,\n",
       " 132,\n",
       " 127,\n",
       " 126,\n",
       " 126,\n",
       " 126,\n",
       " 124,\n",
       " 124,\n",
       " 123,\n",
       " 120,\n",
       " 113,\n",
       " 110,\n",
       " 109,\n",
       " 106,\n",
       " 106,\n",
       " 104,\n",
       " 102,\n",
       " 102,\n",
       " 101,\n",
       " 94,\n",
       " 92,\n",
       " 89,\n",
       " 88,\n",
       " 88,\n",
       " 80,\n",
       " 69,\n",
       " 69,\n",
       " 68,\n",
       " 67,\n",
       " 66,\n",
       " 63,\n",
       " 62,\n",
       " 61,\n",
       " 61,\n",
       " 61,\n",
       " 60,\n",
       " 60,\n",
       " 59,\n",
       " 58,\n",
       " 58,\n",
       " 57,\n",
       " 56,\n",
       " 54,\n",
       " 52,\n",
       " 50,\n",
       " 50,\n",
       " 48,\n",
       " 48,\n",
       " 47,\n",
       " 46,\n",
       " 46,\n",
       " 46,\n",
       " 44,\n",
       " 44,\n",
       " 43,\n",
       " 42,\n",
       " 42,\n",
       " 41,\n",
       " 40,\n",
       " 38,\n",
       " 38,\n",
       " 36,\n",
       " 35,\n",
       " 34,\n",
       " 33,\n",
       " 31,\n",
       " 30,\n",
       " 29,\n",
       " 29,\n",
       " 27,\n",
       " 27,\n",
       " 27,\n",
       " 27,\n",
       " 26,\n",
       " 26,\n",
       " 25,\n",
       " 24,\n",
       " 24,\n",
       " 24,\n",
       " 23,\n",
       " 22,\n",
       " 22,\n",
       " 22,\n",
       " 22,\n",
       " 22,\n",
       " 21,\n",
       " 20,\n",
       " 20,\n",
       " 20,\n",
       " 20,\n",
       " 20,\n",
       " 19,\n",
       " 19,\n",
       " 19,\n",
       " 19,\n",
       " 17,\n",
       " 17,\n",
       " 16,\n",
       " 16,\n",
       " 16,\n",
       " 15,\n",
       " 15,\n",
       " 15,\n",
       " 14,\n",
       " 14,\n",
       " 14,\n",
       " 14,\n",
       " 13,\n",
       " 13,\n",
       " 10,\n",
       " 10,\n",
       " 9,\n",
       " 9,\n",
       " 9,\n",
       " 9,\n",
       " 8,\n",
       " 7,\n",
       " 7,\n",
       " 7,\n",
       " 7,\n",
       " 7,\n",
       " 7,\n",
       " 7,\n",
       " 6,\n",
       " 6,\n",
       " 6,\n",
       " 6,\n",
       " 6,\n",
       " 6,\n",
       " 5,\n",
       " 5,\n",
       " 5,\n",
       " 5,\n",
       " 4,\n",
       " 3,\n",
       " 3,\n",
       " 3,\n",
       " 3,\n",
       " 2,\n",
       " 1,\n",
       " 1,\n",
       " 1]"
      ]
     },
     "execution_count": 49,
     "metadata": {},
     "output_type": "execute_result"
    }
   ],
   "source": [
    "# Storing value counts in a list\n",
    "#neighborhood_vc = list(data['neighbourhood'].value_counts(normalize=True).mul(100).round(2).values)\n",
    "#data['neighbourhood'].value_counts(normalize=True).mul(100).round(2).values\n",
    "neighborhood_vc = list(data['neighbourhood'].value_counts())\n",
    "neighborhood_vc"
   ]
  },
  {
   "cell_type": "markdown",
   "metadata": {},
   "source": [
    "There are 223 different neighborhoods."
   ]
  },
  {
   "cell_type": "markdown",
   "metadata": {},
   "source": [
    "To reduce the amount of neighborhoods, I need to only include neighborhoods with a value counts of over 1000."
   ]
  },
  {
   "cell_type": "code",
   "execution_count": 50,
   "metadata": {},
   "outputs": [
    {
     "name": "stdout",
     "output_type": "stream",
     "text": [
      "[6963, 6526, 4712, 4102, 3275, 3101, 3031, 2891, 2774, 2496, 2047, 1832, 1721, 1654, 1565, 1470, 1229, 1137, 1087, 1083, 1022]\n"
     ]
    }
   ],
   "source": [
    "# Get list of value counts greater than 1000\n",
    "new_neighborhood = [x for x in neighborhood_vc if x > 1000]\n",
    "#for neighborhood in neighborhood_vc:\n",
    "#    if neighborhood_vc < 10:\n",
    "#        other = other + neighborhood_vc[neighborhood]\n",
    "        \n",
    "#print('Sum percentage neighborhoods that are less than 1 percent of the data ', other)\n",
    "print(new_neighborhood)    "
   ]
  },
  {
   "cell_type": "code",
   "execution_count": 51,
   "metadata": {},
   "outputs": [
    {
     "data": {
      "text/plain": [
       "30299"
      ]
     },
     "execution_count": 51,
     "metadata": {},
     "output_type": "execute_result"
    }
   ],
   "source": [
    "# This is the sum of all other neighborhoods that people stayed less than 1000 times\n",
    "other = sum(neighborhood_vc) - sum(new_neighborhood)\n",
    "other"
   ]
  },
  {
   "cell_type": "code",
   "execution_count": 52,
   "metadata": {},
   "outputs": [
    {
     "data": {
      "text/plain": [
       "21"
      ]
     },
     "execution_count": 52,
     "metadata": {},
     "output_type": "execute_result"
    }
   ],
   "source": [
    "len(new_neighborhood)"
   ]
  },
  {
   "cell_type": "code",
   "execution_count": 53,
   "metadata": {},
   "outputs": [
    {
     "data": {
      "text/plain": [
       "['Bedford-Stuyvesant',\n",
       " 'Williamsburg',\n",
       " 'Harlem',\n",
       " 'Bushwick',\n",
       " \"Hell's Kitchen\",\n",
       " 'Upper West Side',\n",
       " 'Upper East Side',\n",
       " 'East Village',\n",
       " 'Crown Heights',\n",
       " 'Midtown',\n",
       " 'East Harlem',\n",
       " 'Chelsea',\n",
       " 'Greenpoint',\n",
       " 'Lower East Side',\n",
       " 'Astoria',\n",
       " 'Washington Heights',\n",
       " 'West Village',\n",
       " 'Financial District',\n",
       " 'Flatbush',\n",
       " 'East Flatbush',\n",
       " 'Prospect-Lefferts Gardens']"
      ]
     },
     "execution_count": 53,
     "metadata": {},
     "output_type": "execute_result"
    }
   ],
   "source": [
    "# The Top 21 most visited neighborhoods with more than 1000 visits\n",
    "top_21 =data['neighbourhood'].value_counts().index[:21].tolist()\n",
    "top_21"
   ]
  },
  {
   "cell_type": "code",
   "execution_count": 54,
   "metadata": {},
   "outputs": [
    {
     "data": {
      "text/plain": [
       "['Clinton Hill',\n",
       " 'Long Island City',\n",
       " 'Flushing',\n",
       " 'Park Slope',\n",
       " 'Fort Greene',\n",
       " 'Sunset Park',\n",
       " 'Kips Bay',\n",
       " 'Ridgewood',\n",
       " 'Chinatown',\n",
       " 'Murray Hill',\n",
       " 'Sunnyside',\n",
       " 'Greenwich Village',\n",
       " 'Prospect Heights',\n",
       " 'Ditmars Steinway',\n",
       " 'SoHo',\n",
       " 'Gramercy',\n",
       " 'East New York',\n",
       " 'Jamaica',\n",
       " 'South Slope',\n",
       " 'Woodside',\n",
       " 'Morningside Heights',\n",
       " 'Inwood',\n",
       " 'Elmhurst',\n",
       " 'East Elmhurst',\n",
       " 'Nolita',\n",
       " 'Gowanus',\n",
       " 'Carroll Gardens',\n",
       " 'Jackson Heights',\n",
       " 'Theater District',\n",
       " 'Canarsie',\n",
       " 'Cypress Hills',\n",
       " 'Kensington',\n",
       " 'Boerum Hill',\n",
       " 'Sheepshead Bay',\n",
       " 'Windsor Terrace',\n",
       " 'Bay Ridge',\n",
       " 'Forest Hills',\n",
       " 'Brooklyn Heights',\n",
       " 'Tribeca',\n",
       " 'Springfield Gardens',\n",
       " 'Little Italy',\n",
       " 'Borough Park',\n",
       " 'Maspeth',\n",
       " 'Rego Park',\n",
       " 'Arverne',\n",
       " 'St. Albans',\n",
       " 'Richmond Hill',\n",
       " 'Flatlands',\n",
       " 'Midwood',\n",
       " 'Cobble Hill',\n",
       " 'Rockaway Beach',\n",
       " 'Woodhaven',\n",
       " 'Red Hook',\n",
       " 'Rosedale',\n",
       " 'Corona',\n",
       " 'Brownsville',\n",
       " 'Brighton Beach',\n",
       " 'Wakefield',\n",
       " 'Roosevelt Island',\n",
       " 'Bensonhurst',\n",
       " 'Mott Haven',\n",
       " 'Kingsbridge',\n",
       " 'Fordham',\n",
       " 'Ozone Park',\n",
       " 'Flatiron District',\n",
       " 'Downtown Brooklyn',\n",
       " 'Glendale',\n",
       " 'South Ozone Park',\n",
       " 'Queens Village',\n",
       " 'NoHo',\n",
       " 'Two Bridges',\n",
       " 'Bayside',\n",
       " 'Longwood',\n",
       " 'Gravesend',\n",
       " 'Concourse',\n",
       " 'St. George',\n",
       " 'Tompkinsville',\n",
       " 'Fort Hamilton',\n",
       " 'Briarwood',\n",
       " 'Fresh Meadows',\n",
       " 'Parkchester',\n",
       " 'Port Morris',\n",
       " 'Allerton',\n",
       " 'Williamsbridge',\n",
       " 'Columbia St',\n",
       " 'Kew Gardens',\n",
       " 'Pelham Gardens',\n",
       " 'Civic Center',\n",
       " 'Battery Park City',\n",
       " 'Far Rockaway',\n",
       " 'Laurelton',\n",
       " 'Highbridge',\n",
       " 'Norwood',\n",
       " 'Stuyvesant Town',\n",
       " 'Concourse Village',\n",
       " 'Cambria Heights',\n",
       " 'Middle Village',\n",
       " 'Stapleton',\n",
       " 'Vinegar Hill',\n",
       " 'Concord',\n",
       " 'Kew Gardens Hills',\n",
       " 'West Brighton',\n",
       " 'Throgs Neck',\n",
       " 'Mount Hope',\n",
       " 'DUMBO',\n",
       " 'Arrochar',\n",
       " 'Coney Island',\n",
       " 'Hunts Point',\n",
       " 'Schuylerville',\n",
       " 'University Heights',\n",
       " 'Bath Beach',\n",
       " 'Clason Point',\n",
       " 'Bronxdale',\n",
       " 'Claremont Village',\n",
       " 'Howard Beach',\n",
       " 'College Point',\n",
       " 'Jamaica Estates',\n",
       " 'Morris Park',\n",
       " 'Belmont',\n",
       " 'Randall Manor',\n",
       " 'Pelham Bay',\n",
       " 'City Island',\n",
       " 'Clifton',\n",
       " 'Morris Heights',\n",
       " 'Hollis',\n",
       " 'Soundview',\n",
       " 'Bayswater',\n",
       " 'Woodlawn',\n",
       " 'Tremont',\n",
       " 'Bergen Beach',\n",
       " 'Navy Yard',\n",
       " 'Baychester',\n",
       " 'Edenwald',\n",
       " 'Edgemere',\n",
       " 'Belle Harbor',\n",
       " 'Fieldston',\n",
       " 'Dyker Heights',\n",
       " 'Great Kills',\n",
       " 'Marble Hill',\n",
       " 'Eastchester',\n",
       " 'Douglaston',\n",
       " 'Van Nest',\n",
       " 'Westchester Square',\n",
       " 'Morrisania',\n",
       " 'Mariners Harbor',\n",
       " 'Port Richmond',\n",
       " 'Jamaica Hills',\n",
       " 'Manhattan Beach',\n",
       " 'Melrose',\n",
       " 'East Morrisania',\n",
       " 'Grant City',\n",
       " 'Bellerose',\n",
       " 'Unionport',\n",
       " 'Whitestone',\n",
       " 'North Riverdale',\n",
       " 'Olinville',\n",
       " 'Grymes Hill',\n",
       " 'South Beach',\n",
       " 'Shore Acres',\n",
       " 'Mount Eden',\n",
       " 'Midland Beach',\n",
       " 'New Brighton',\n",
       " 'New Springville',\n",
       " 'Mill Basin',\n",
       " 'Sea Gate',\n",
       " 'Oakwood',\n",
       " 'Rosebank',\n",
       " 'Riverdale',\n",
       " 'Dongan Hills',\n",
       " 'Tottenville',\n",
       " 'Castleton Corners',\n",
       " 'Silver Lake',\n",
       " 'Spuyten Duyvil',\n",
       " 'Arden Heights',\n",
       " 'Huguenot',\n",
       " 'Castle Hill',\n",
       " 'New Dorp Beach',\n",
       " 'Emerson Hill',\n",
       " 'Todt Hill',\n",
       " 'Neponsit',\n",
       " 'Bay Terrace',\n",
       " 'Breezy Point',\n",
       " 'Graniteville',\n",
       " 'Howland Hook',\n",
       " 'West Farms',\n",
       " \"Bull's Head\",\n",
       " 'Eltingville',\n",
       " 'Holliswood',\n",
       " 'Little Neck',\n",
       " 'Westerleigh',\n",
       " 'Co-op City',\n",
       " \"Prince's Bay\",\n",
       " 'Richmondtown',\n",
       " 'Bay Terrace, Staten Island',\n",
       " 'Gerritsen Beach',\n",
       " 'Rossville',\n",
       " 'Lighthouse Hill',\n",
       " 'Willowbrook',\n",
       " 'Glen Oaks',\n",
       " 'Chelsea, Staten Island',\n",
       " 'New Dorp',\n",
       " 'Woodrow']"
      ]
     },
     "execution_count": 54,
     "metadata": {},
     "output_type": "execute_result"
    }
   ],
   "source": [
    "# Get list of neighborhoods outside top 21\n",
    "outside_21 = data['neighbourhood'].value_counts().index[21:].tolist()\n",
    "outside_21"
   ]
  },
  {
   "cell_type": "code",
   "execution_count": 55,
   "metadata": {},
   "outputs": [
    {
     "data": {
      "text/html": [
       "<div>\n",
       "<style scoped>\n",
       "    .dataframe tbody tr th:only-of-type {\n",
       "        vertical-align: middle;\n",
       "    }\n",
       "\n",
       "    .dataframe tbody tr th {\n",
       "        vertical-align: top;\n",
       "    }\n",
       "\n",
       "    .dataframe thead th {\n",
       "        text-align: right;\n",
       "    }\n",
       "</style>\n",
       "<table border=\"1\" class=\"dataframe\">\n",
       "  <thead>\n",
       "    <tr style=\"text-align: right;\">\n",
       "      <th></th>\n",
       "      <th>host_identity_verified</th>\n",
       "      <th>neighbourhood group</th>\n",
       "      <th>neighbourhood</th>\n",
       "      <th>price</th>\n",
       "      <th>service fee</th>\n",
       "      <th>minimum nights</th>\n",
       "      <th>number of reviews</th>\n",
       "      <th>reviews per month</th>\n",
       "      <th>review rate number</th>\n",
       "      <th>calculated host listings count</th>\n",
       "      <th>availability 365</th>\n",
       "      <th>lr_year</th>\n",
       "      <th>lr_month</th>\n",
       "      <th>lr_day</th>\n",
       "    </tr>\n",
       "  </thead>\n",
       "  <tbody>\n",
       "    <tr>\n",
       "      <th>1</th>\n",
       "      <td>verified</td>\n",
       "      <td>Manhattan</td>\n",
       "      <td>Midtown</td>\n",
       "      <td>142</td>\n",
       "      <td>28</td>\n",
       "      <td>30.0</td>\n",
       "      <td>45</td>\n",
       "      <td>0.38</td>\n",
       "      <td>4.0</td>\n",
       "      <td>2.0</td>\n",
       "      <td>228.0</td>\n",
       "      <td>2022</td>\n",
       "      <td>5</td>\n",
       "      <td>21</td>\n",
       "    </tr>\n",
       "    <tr>\n",
       "      <th>4</th>\n",
       "      <td>verified</td>\n",
       "      <td>Manhattan</td>\n",
       "      <td>East Harlem</td>\n",
       "      <td>204</td>\n",
       "      <td>41</td>\n",
       "      <td>10.0</td>\n",
       "      <td>9</td>\n",
       "      <td>0.10</td>\n",
       "      <td>3.0</td>\n",
       "      <td>1.0</td>\n",
       "      <td>289.0</td>\n",
       "      <td>2018</td>\n",
       "      <td>11</td>\n",
       "      <td>19</td>\n",
       "    </tr>\n",
       "    <tr>\n",
       "      <th>6</th>\n",
       "      <td>unconfirmed</td>\n",
       "      <td>Brooklyn</td>\n",
       "      <td>Bedford-Stuyvesant</td>\n",
       "      <td>71</td>\n",
       "      <td>14</td>\n",
       "      <td>45.0</td>\n",
       "      <td>49</td>\n",
       "      <td>0.40</td>\n",
       "      <td>5.0</td>\n",
       "      <td>1.0</td>\n",
       "      <td>224.0</td>\n",
       "      <td>2017</td>\n",
       "      <td>10</td>\n",
       "      <td>5</td>\n",
       "    </tr>\n",
       "    <tr>\n",
       "      <th>7</th>\n",
       "      <td>unconfirmed</td>\n",
       "      <td>Brooklyn</td>\n",
       "      <td>Bedford-Stuyvesant</td>\n",
       "      <td>1060</td>\n",
       "      <td>212</td>\n",
       "      <td>45.0</td>\n",
       "      <td>49</td>\n",
       "      <td>0.40</td>\n",
       "      <td>5.0</td>\n",
       "      <td>1.0</td>\n",
       "      <td>219.0</td>\n",
       "      <td>2017</td>\n",
       "      <td>10</td>\n",
       "      <td>5</td>\n",
       "    </tr>\n",
       "    <tr>\n",
       "      <th>8</th>\n",
       "      <td>verified</td>\n",
       "      <td>Manhattan</td>\n",
       "      <td>Hell's Kitchen</td>\n",
       "      <td>1018</td>\n",
       "      <td>204</td>\n",
       "      <td>2.0</td>\n",
       "      <td>430</td>\n",
       "      <td>3.47</td>\n",
       "      <td>3.0</td>\n",
       "      <td>1.0</td>\n",
       "      <td>180.0</td>\n",
       "      <td>2019</td>\n",
       "      <td>6</td>\n",
       "      <td>24</td>\n",
       "    </tr>\n",
       "    <tr>\n",
       "      <th>...</th>\n",
       "      <td>...</td>\n",
       "      <td>...</td>\n",
       "      <td>...</td>\n",
       "      <td>...</td>\n",
       "      <td>...</td>\n",
       "      <td>...</td>\n",
       "      <td>...</td>\n",
       "      <td>...</td>\n",
       "      <td>...</td>\n",
       "      <td>...</td>\n",
       "      <td>...</td>\n",
       "      <td>...</td>\n",
       "      <td>...</td>\n",
       "      <td>...</td>\n",
       "    </tr>\n",
       "    <tr>\n",
       "      <th>102585</th>\n",
       "      <td>verified</td>\n",
       "      <td>Brooklyn</td>\n",
       "      <td>Williamsburg</td>\n",
       "      <td>643</td>\n",
       "      <td>129</td>\n",
       "      <td>5.0</td>\n",
       "      <td>4</td>\n",
       "      <td>0.08</td>\n",
       "      <td>5.0</td>\n",
       "      <td>1.0</td>\n",
       "      <td>157.0</td>\n",
       "      <td>2016</td>\n",
       "      <td>3</td>\n",
       "      <td>27</td>\n",
       "    </tr>\n",
       "    <tr>\n",
       "      <th>102586</th>\n",
       "      <td>verified</td>\n",
       "      <td>Manhattan</td>\n",
       "      <td>Upper East Side</td>\n",
       "      <td>208</td>\n",
       "      <td>42</td>\n",
       "      <td>4.0</td>\n",
       "      <td>8</td>\n",
       "      <td>0.17</td>\n",
       "      <td>5.0</td>\n",
       "      <td>1.0</td>\n",
       "      <td>159.0</td>\n",
       "      <td>2016</td>\n",
       "      <td>8</td>\n",
       "      <td>8</td>\n",
       "    </tr>\n",
       "    <tr>\n",
       "      <th>102587</th>\n",
       "      <td>verified</td>\n",
       "      <td>Brooklyn</td>\n",
       "      <td>Williamsburg</td>\n",
       "      <td>388</td>\n",
       "      <td>78</td>\n",
       "      <td>1.0</td>\n",
       "      <td>66</td>\n",
       "      <td>1.35</td>\n",
       "      <td>2.0</td>\n",
       "      <td>1.0</td>\n",
       "      <td>352.0</td>\n",
       "      <td>2019</td>\n",
       "      <td>6</td>\n",
       "      <td>16</td>\n",
       "    </tr>\n",
       "    <tr>\n",
       "      <th>102591</th>\n",
       "      <td>verified</td>\n",
       "      <td>Manhattan</td>\n",
       "      <td>Upper West Side</td>\n",
       "      <td>1139</td>\n",
       "      <td>228</td>\n",
       "      <td>5.0</td>\n",
       "      <td>17</td>\n",
       "      <td>0.35</td>\n",
       "      <td>5.0</td>\n",
       "      <td>1.0</td>\n",
       "      <td>134.0</td>\n",
       "      <td>2019</td>\n",
       "      <td>1</td>\n",
       "      <td>4</td>\n",
       "    </tr>\n",
       "    <tr>\n",
       "      <th>102593</th>\n",
       "      <td>verified</td>\n",
       "      <td>Manhattan</td>\n",
       "      <td>East Village</td>\n",
       "      <td>1099</td>\n",
       "      <td>220</td>\n",
       "      <td>1.0</td>\n",
       "      <td>8</td>\n",
       "      <td>0.16</td>\n",
       "      <td>4.0</td>\n",
       "      <td>2.0</td>\n",
       "      <td>152.0</td>\n",
       "      <td>2015</td>\n",
       "      <td>9</td>\n",
       "      <td>6</td>\n",
       "    </tr>\n",
       "  </tbody>\n",
       "</table>\n",
       "<p>55718 rows × 14 columns</p>\n",
       "</div>"
      ],
      "text/plain": [
       "       host_identity_verified neighbourhood group       neighbourhood  price  \\\n",
       "1                    verified           Manhattan             Midtown    142   \n",
       "4                    verified           Manhattan         East Harlem    204   \n",
       "6                 unconfirmed            Brooklyn  Bedford-Stuyvesant     71   \n",
       "7                 unconfirmed            Brooklyn  Bedford-Stuyvesant   1060   \n",
       "8                    verified           Manhattan      Hell's Kitchen   1018   \n",
       "...                       ...                 ...                 ...    ...   \n",
       "102585               verified            Brooklyn        Williamsburg    643   \n",
       "102586               verified           Manhattan     Upper East Side    208   \n",
       "102587               verified            Brooklyn        Williamsburg    388   \n",
       "102591               verified           Manhattan     Upper West Side   1139   \n",
       "102593               verified           Manhattan        East Village   1099   \n",
       "\n",
       "        service fee  minimum nights  number of reviews  reviews per month  \\\n",
       "1                28            30.0                 45               0.38   \n",
       "4                41            10.0                  9               0.10   \n",
       "6                14            45.0                 49               0.40   \n",
       "7               212            45.0                 49               0.40   \n",
       "8               204             2.0                430               3.47   \n",
       "...             ...             ...                ...                ...   \n",
       "102585          129             5.0                  4               0.08   \n",
       "102586           42             4.0                  8               0.17   \n",
       "102587           78             1.0                 66               1.35   \n",
       "102591          228             5.0                 17               0.35   \n",
       "102593          220             1.0                  8               0.16   \n",
       "\n",
       "        review rate number  calculated host listings count  availability 365  \\\n",
       "1                      4.0                             2.0             228.0   \n",
       "4                      3.0                             1.0             289.0   \n",
       "6                      5.0                             1.0             224.0   \n",
       "7                      5.0                             1.0             219.0   \n",
       "8                      3.0                             1.0             180.0   \n",
       "...                    ...                             ...               ...   \n",
       "102585                 5.0                             1.0             157.0   \n",
       "102586                 5.0                             1.0             159.0   \n",
       "102587                 2.0                             1.0             352.0   \n",
       "102591                 5.0                             1.0             134.0   \n",
       "102593                 4.0                             2.0             152.0   \n",
       "\n",
       "        lr_year  lr_month  lr_day  \n",
       "1          2022         5      21  \n",
       "4          2018        11      19  \n",
       "6          2017        10       5  \n",
       "7          2017        10       5  \n",
       "8          2019         6      24  \n",
       "...         ...       ...     ...  \n",
       "102585     2016         3      27  \n",
       "102586     2016         8       8  \n",
       "102587     2019         6      16  \n",
       "102591     2019         1       4  \n",
       "102593     2015         9       6  \n",
       "\n",
       "[55718 rows x 14 columns]"
      ]
     },
     "execution_count": 55,
     "metadata": {},
     "output_type": "execute_result"
    }
   ],
   "source": [
    "# Dropping rows that contain neighbors outside of top 21\n",
    "top21_df = data[data['neighbourhood'].isin(top_21)]\n",
    "top21_df"
   ]
  },
  {
   "cell_type": "code",
   "execution_count": 56,
   "metadata": {},
   "outputs": [
    {
     "data": {
      "text/html": [
       "<div>\n",
       "<style scoped>\n",
       "    .dataframe tbody tr th:only-of-type {\n",
       "        vertical-align: middle;\n",
       "    }\n",
       "\n",
       "    .dataframe tbody tr th {\n",
       "        vertical-align: top;\n",
       "    }\n",
       "\n",
       "    .dataframe thead th {\n",
       "        text-align: right;\n",
       "    }\n",
       "</style>\n",
       "<table border=\"1\" class=\"dataframe\">\n",
       "  <thead>\n",
       "    <tr style=\"text-align: right;\">\n",
       "      <th></th>\n",
       "      <th>host_identity_verified</th>\n",
       "      <th>neighbourhood group</th>\n",
       "      <th>neighbourhood</th>\n",
       "      <th>price</th>\n",
       "      <th>service fee</th>\n",
       "      <th>minimum nights</th>\n",
       "      <th>number of reviews</th>\n",
       "      <th>reviews per month</th>\n",
       "      <th>review rate number</th>\n",
       "      <th>calculated host listings count</th>\n",
       "      <th>availability 365</th>\n",
       "      <th>lr_year</th>\n",
       "      <th>lr_month</th>\n",
       "      <th>lr_day</th>\n",
       "    </tr>\n",
       "  </thead>\n",
       "  <tbody>\n",
       "    <tr>\n",
       "      <th>0</th>\n",
       "      <td>unconfirmed</td>\n",
       "      <td>Brooklyn</td>\n",
       "      <td>Kensington</td>\n",
       "      <td>966</td>\n",
       "      <td>193</td>\n",
       "      <td>10.0</td>\n",
       "      <td>9</td>\n",
       "      <td>0.21</td>\n",
       "      <td>4.0</td>\n",
       "      <td>6.0</td>\n",
       "      <td>286.0</td>\n",
       "      <td>2021</td>\n",
       "      <td>10</td>\n",
       "      <td>19</td>\n",
       "    </tr>\n",
       "    <tr>\n",
       "      <th>3</th>\n",
       "      <td>unconfirmed</td>\n",
       "      <td>Brooklyn</td>\n",
       "      <td>Clinton Hill</td>\n",
       "      <td>368</td>\n",
       "      <td>74</td>\n",
       "      <td>30.0</td>\n",
       "      <td>270</td>\n",
       "      <td>4.64</td>\n",
       "      <td>4.0</td>\n",
       "      <td>1.0</td>\n",
       "      <td>322.0</td>\n",
       "      <td>2019</td>\n",
       "      <td>7</td>\n",
       "      <td>5</td>\n",
       "    </tr>\n",
       "    <tr>\n",
       "      <th>5</th>\n",
       "      <td>verified</td>\n",
       "      <td>Manhattan</td>\n",
       "      <td>Murray Hill</td>\n",
       "      <td>577</td>\n",
       "      <td>115</td>\n",
       "      <td>3.0</td>\n",
       "      <td>74</td>\n",
       "      <td>0.59</td>\n",
       "      <td>3.0</td>\n",
       "      <td>1.0</td>\n",
       "      <td>374.0</td>\n",
       "      <td>2019</td>\n",
       "      <td>6</td>\n",
       "      <td>22</td>\n",
       "    </tr>\n",
       "    <tr>\n",
       "      <th>10</th>\n",
       "      <td>verified</td>\n",
       "      <td>Manhattan</td>\n",
       "      <td>Chinatown</td>\n",
       "      <td>319</td>\n",
       "      <td>64</td>\n",
       "      <td>1.0</td>\n",
       "      <td>160</td>\n",
       "      <td>1.33</td>\n",
       "      <td>3.0</td>\n",
       "      <td>4.0</td>\n",
       "      <td>1.0</td>\n",
       "      <td>2019</td>\n",
       "      <td>6</td>\n",
       "      <td>9</td>\n",
       "    </tr>\n",
       "    <tr>\n",
       "      <th>13</th>\n",
       "      <td>verified</td>\n",
       "      <td>Brooklyn</td>\n",
       "      <td>South Slope</td>\n",
       "      <td>580</td>\n",
       "      <td>116</td>\n",
       "      <td>4.0</td>\n",
       "      <td>167</td>\n",
       "      <td>1.34</td>\n",
       "      <td>4.0</td>\n",
       "      <td>3.0</td>\n",
       "      <td>47.0</td>\n",
       "      <td>2019</td>\n",
       "      <td>6</td>\n",
       "      <td>24</td>\n",
       "    </tr>\n",
       "    <tr>\n",
       "      <th>...</th>\n",
       "      <td>...</td>\n",
       "      <td>...</td>\n",
       "      <td>...</td>\n",
       "      <td>...</td>\n",
       "      <td>...</td>\n",
       "      <td>...</td>\n",
       "      <td>...</td>\n",
       "      <td>...</td>\n",
       "      <td>...</td>\n",
       "      <td>...</td>\n",
       "      <td>...</td>\n",
       "      <td>...</td>\n",
       "      <td>...</td>\n",
       "      <td>...</td>\n",
       "    </tr>\n",
       "    <tr>\n",
       "      <th>102580</th>\n",
       "      <td>verified</td>\n",
       "      <td>Queens</td>\n",
       "      <td>East Elmhurst</td>\n",
       "      <td>609</td>\n",
       "      <td>122</td>\n",
       "      <td>1.0</td>\n",
       "      <td>209</td>\n",
       "      <td>4.38</td>\n",
       "      <td>3.0</td>\n",
       "      <td>1.0</td>\n",
       "      <td>270.0</td>\n",
       "      <td>2019</td>\n",
       "      <td>6</td>\n",
       "      <td>11</td>\n",
       "    </tr>\n",
       "    <tr>\n",
       "      <th>102584</th>\n",
       "      <td>verified</td>\n",
       "      <td>Queens</td>\n",
       "      <td>Arverne</td>\n",
       "      <td>566</td>\n",
       "      <td>113</td>\n",
       "      <td>2.0</td>\n",
       "      <td>89</td>\n",
       "      <td>1.82</td>\n",
       "      <td>2.0</td>\n",
       "      <td>1.0</td>\n",
       "      <td>394.0</td>\n",
       "      <td>2019</td>\n",
       "      <td>5</td>\n",
       "      <td>26</td>\n",
       "    </tr>\n",
       "    <tr>\n",
       "      <th>102588</th>\n",
       "      <td>unconfirmed</td>\n",
       "      <td>Manhattan</td>\n",
       "      <td>Flatiron District</td>\n",
       "      <td>618</td>\n",
       "      <td>124</td>\n",
       "      <td>1.0</td>\n",
       "      <td>177</td>\n",
       "      <td>3.78</td>\n",
       "      <td>4.0</td>\n",
       "      <td>1.0</td>\n",
       "      <td>410.0</td>\n",
       "      <td>2019</td>\n",
       "      <td>6</td>\n",
       "      <td>29</td>\n",
       "    </tr>\n",
       "    <tr>\n",
       "      <th>102595</th>\n",
       "      <td>unconfirmed</td>\n",
       "      <td>Manhattan</td>\n",
       "      <td>Morningside Heights</td>\n",
       "      <td>837</td>\n",
       "      <td>167</td>\n",
       "      <td>1.0</td>\n",
       "      <td>1</td>\n",
       "      <td>0.02</td>\n",
       "      <td>2.0</td>\n",
       "      <td>2.0</td>\n",
       "      <td>395.0</td>\n",
       "      <td>2015</td>\n",
       "      <td>7</td>\n",
       "      <td>6</td>\n",
       "    </tr>\n",
       "    <tr>\n",
       "      <th>102597</th>\n",
       "      <td>unconfirmed</td>\n",
       "      <td>Queens</td>\n",
       "      <td>Long Island City</td>\n",
       "      <td>546</td>\n",
       "      <td>109</td>\n",
       "      <td>2.0</td>\n",
       "      <td>5</td>\n",
       "      <td>0.10</td>\n",
       "      <td>3.0</td>\n",
       "      <td>1.0</td>\n",
       "      <td>386.0</td>\n",
       "      <td>2015</td>\n",
       "      <td>10</td>\n",
       "      <td>11</td>\n",
       "    </tr>\n",
       "  </tbody>\n",
       "</table>\n",
       "<p>30299 rows × 14 columns</p>\n",
       "</div>"
      ],
      "text/plain": [
       "       host_identity_verified neighbourhood group        neighbourhood  price  \\\n",
       "0                 unconfirmed            Brooklyn           Kensington    966   \n",
       "3                 unconfirmed            Brooklyn         Clinton Hill    368   \n",
       "5                    verified           Manhattan          Murray Hill    577   \n",
       "10                   verified           Manhattan            Chinatown    319   \n",
       "13                   verified            Brooklyn          South Slope    580   \n",
       "...                       ...                 ...                  ...    ...   \n",
       "102580               verified              Queens        East Elmhurst    609   \n",
       "102584               verified              Queens              Arverne    566   \n",
       "102588            unconfirmed           Manhattan    Flatiron District    618   \n",
       "102595            unconfirmed           Manhattan  Morningside Heights    837   \n",
       "102597            unconfirmed              Queens     Long Island City    546   \n",
       "\n",
       "        service fee  minimum nights  number of reviews  reviews per month  \\\n",
       "0               193            10.0                  9               0.21   \n",
       "3                74            30.0                270               4.64   \n",
       "5               115             3.0                 74               0.59   \n",
       "10               64             1.0                160               1.33   \n",
       "13              116             4.0                167               1.34   \n",
       "...             ...             ...                ...                ...   \n",
       "102580          122             1.0                209               4.38   \n",
       "102584          113             2.0                 89               1.82   \n",
       "102588          124             1.0                177               3.78   \n",
       "102595          167             1.0                  1               0.02   \n",
       "102597          109             2.0                  5               0.10   \n",
       "\n",
       "        review rate number  calculated host listings count  availability 365  \\\n",
       "0                      4.0                             6.0             286.0   \n",
       "3                      4.0                             1.0             322.0   \n",
       "5                      3.0                             1.0             374.0   \n",
       "10                     3.0                             4.0               1.0   \n",
       "13                     4.0                             3.0              47.0   \n",
       "...                    ...                             ...               ...   \n",
       "102580                 3.0                             1.0             270.0   \n",
       "102584                 2.0                             1.0             394.0   \n",
       "102588                 4.0                             1.0             410.0   \n",
       "102595                 2.0                             2.0             395.0   \n",
       "102597                 3.0                             1.0             386.0   \n",
       "\n",
       "        lr_year  lr_month  lr_day  \n",
       "0          2021        10      19  \n",
       "3          2019         7       5  \n",
       "5          2019         6      22  \n",
       "10         2019         6       9  \n",
       "13         2019         6      24  \n",
       "...         ...       ...     ...  \n",
       "102580     2019         6      11  \n",
       "102584     2019         5      26  \n",
       "102588     2019         6      29  \n",
       "102595     2015         7       6  \n",
       "102597     2015        10      11  \n",
       "\n",
       "[30299 rows x 14 columns]"
      ]
     },
     "execution_count": 56,
     "metadata": {},
     "output_type": "execute_result"
    }
   ],
   "source": [
    "# If neighborhood is outside of top 21 change neighborhood name to 'Other'\n",
    "outside21_df = data[data['neighbourhood'].isin(outside_21)]\n",
    "outside21_df"
   ]
  },
  {
   "cell_type": "code",
   "execution_count": 57,
   "metadata": {},
   "outputs": [
    {
     "data": {
      "text/html": [
       "<div>\n",
       "<style scoped>\n",
       "    .dataframe tbody tr th:only-of-type {\n",
       "        vertical-align: middle;\n",
       "    }\n",
       "\n",
       "    .dataframe tbody tr th {\n",
       "        vertical-align: top;\n",
       "    }\n",
       "\n",
       "    .dataframe thead th {\n",
       "        text-align: right;\n",
       "    }\n",
       "</style>\n",
       "<table border=\"1\" class=\"dataframe\">\n",
       "  <thead>\n",
       "    <tr style=\"text-align: right;\">\n",
       "      <th></th>\n",
       "      <th>host_identity_verified</th>\n",
       "      <th>neighbourhood group</th>\n",
       "      <th>neighbourhood</th>\n",
       "      <th>price</th>\n",
       "      <th>service fee</th>\n",
       "      <th>minimum nights</th>\n",
       "      <th>number of reviews</th>\n",
       "      <th>reviews per month</th>\n",
       "      <th>review rate number</th>\n",
       "      <th>calculated host listings count</th>\n",
       "      <th>availability 365</th>\n",
       "      <th>lr_year</th>\n",
       "      <th>lr_month</th>\n",
       "      <th>lr_day</th>\n",
       "    </tr>\n",
       "  </thead>\n",
       "  <tbody>\n",
       "    <tr>\n",
       "      <th>0</th>\n",
       "      <td>unconfirmed</td>\n",
       "      <td>Brooklyn</td>\n",
       "      <td>Other</td>\n",
       "      <td>966</td>\n",
       "      <td>193</td>\n",
       "      <td>10.0</td>\n",
       "      <td>9</td>\n",
       "      <td>0.21</td>\n",
       "      <td>4.0</td>\n",
       "      <td>6.0</td>\n",
       "      <td>286.0</td>\n",
       "      <td>2021</td>\n",
       "      <td>10</td>\n",
       "      <td>19</td>\n",
       "    </tr>\n",
       "    <tr>\n",
       "      <th>3</th>\n",
       "      <td>unconfirmed</td>\n",
       "      <td>Brooklyn</td>\n",
       "      <td>Other</td>\n",
       "      <td>368</td>\n",
       "      <td>74</td>\n",
       "      <td>30.0</td>\n",
       "      <td>270</td>\n",
       "      <td>4.64</td>\n",
       "      <td>4.0</td>\n",
       "      <td>1.0</td>\n",
       "      <td>322.0</td>\n",
       "      <td>2019</td>\n",
       "      <td>7</td>\n",
       "      <td>5</td>\n",
       "    </tr>\n",
       "    <tr>\n",
       "      <th>5</th>\n",
       "      <td>verified</td>\n",
       "      <td>Manhattan</td>\n",
       "      <td>Other</td>\n",
       "      <td>577</td>\n",
       "      <td>115</td>\n",
       "      <td>3.0</td>\n",
       "      <td>74</td>\n",
       "      <td>0.59</td>\n",
       "      <td>3.0</td>\n",
       "      <td>1.0</td>\n",
       "      <td>374.0</td>\n",
       "      <td>2019</td>\n",
       "      <td>6</td>\n",
       "      <td>22</td>\n",
       "    </tr>\n",
       "    <tr>\n",
       "      <th>10</th>\n",
       "      <td>verified</td>\n",
       "      <td>Manhattan</td>\n",
       "      <td>Other</td>\n",
       "      <td>319</td>\n",
       "      <td>64</td>\n",
       "      <td>1.0</td>\n",
       "      <td>160</td>\n",
       "      <td>1.33</td>\n",
       "      <td>3.0</td>\n",
       "      <td>4.0</td>\n",
       "      <td>1.0</td>\n",
       "      <td>2019</td>\n",
       "      <td>6</td>\n",
       "      <td>9</td>\n",
       "    </tr>\n",
       "    <tr>\n",
       "      <th>13</th>\n",
       "      <td>verified</td>\n",
       "      <td>Brooklyn</td>\n",
       "      <td>Other</td>\n",
       "      <td>580</td>\n",
       "      <td>116</td>\n",
       "      <td>4.0</td>\n",
       "      <td>167</td>\n",
       "      <td>1.34</td>\n",
       "      <td>4.0</td>\n",
       "      <td>3.0</td>\n",
       "      <td>47.0</td>\n",
       "      <td>2019</td>\n",
       "      <td>6</td>\n",
       "      <td>24</td>\n",
       "    </tr>\n",
       "    <tr>\n",
       "      <th>...</th>\n",
       "      <td>...</td>\n",
       "      <td>...</td>\n",
       "      <td>...</td>\n",
       "      <td>...</td>\n",
       "      <td>...</td>\n",
       "      <td>...</td>\n",
       "      <td>...</td>\n",
       "      <td>...</td>\n",
       "      <td>...</td>\n",
       "      <td>...</td>\n",
       "      <td>...</td>\n",
       "      <td>...</td>\n",
       "      <td>...</td>\n",
       "      <td>...</td>\n",
       "    </tr>\n",
       "    <tr>\n",
       "      <th>102580</th>\n",
       "      <td>verified</td>\n",
       "      <td>Queens</td>\n",
       "      <td>Other</td>\n",
       "      <td>609</td>\n",
       "      <td>122</td>\n",
       "      <td>1.0</td>\n",
       "      <td>209</td>\n",
       "      <td>4.38</td>\n",
       "      <td>3.0</td>\n",
       "      <td>1.0</td>\n",
       "      <td>270.0</td>\n",
       "      <td>2019</td>\n",
       "      <td>6</td>\n",
       "      <td>11</td>\n",
       "    </tr>\n",
       "    <tr>\n",
       "      <th>102584</th>\n",
       "      <td>verified</td>\n",
       "      <td>Queens</td>\n",
       "      <td>Other</td>\n",
       "      <td>566</td>\n",
       "      <td>113</td>\n",
       "      <td>2.0</td>\n",
       "      <td>89</td>\n",
       "      <td>1.82</td>\n",
       "      <td>2.0</td>\n",
       "      <td>1.0</td>\n",
       "      <td>394.0</td>\n",
       "      <td>2019</td>\n",
       "      <td>5</td>\n",
       "      <td>26</td>\n",
       "    </tr>\n",
       "    <tr>\n",
       "      <th>102588</th>\n",
       "      <td>unconfirmed</td>\n",
       "      <td>Manhattan</td>\n",
       "      <td>Other</td>\n",
       "      <td>618</td>\n",
       "      <td>124</td>\n",
       "      <td>1.0</td>\n",
       "      <td>177</td>\n",
       "      <td>3.78</td>\n",
       "      <td>4.0</td>\n",
       "      <td>1.0</td>\n",
       "      <td>410.0</td>\n",
       "      <td>2019</td>\n",
       "      <td>6</td>\n",
       "      <td>29</td>\n",
       "    </tr>\n",
       "    <tr>\n",
       "      <th>102595</th>\n",
       "      <td>unconfirmed</td>\n",
       "      <td>Manhattan</td>\n",
       "      <td>Other</td>\n",
       "      <td>837</td>\n",
       "      <td>167</td>\n",
       "      <td>1.0</td>\n",
       "      <td>1</td>\n",
       "      <td>0.02</td>\n",
       "      <td>2.0</td>\n",
       "      <td>2.0</td>\n",
       "      <td>395.0</td>\n",
       "      <td>2015</td>\n",
       "      <td>7</td>\n",
       "      <td>6</td>\n",
       "    </tr>\n",
       "    <tr>\n",
       "      <th>102597</th>\n",
       "      <td>unconfirmed</td>\n",
       "      <td>Queens</td>\n",
       "      <td>Other</td>\n",
       "      <td>546</td>\n",
       "      <td>109</td>\n",
       "      <td>2.0</td>\n",
       "      <td>5</td>\n",
       "      <td>0.10</td>\n",
       "      <td>3.0</td>\n",
       "      <td>1.0</td>\n",
       "      <td>386.0</td>\n",
       "      <td>2015</td>\n",
       "      <td>10</td>\n",
       "      <td>11</td>\n",
       "    </tr>\n",
       "  </tbody>\n",
       "</table>\n",
       "<p>30299 rows × 14 columns</p>\n",
       "</div>"
      ],
      "text/plain": [
       "       host_identity_verified neighbourhood group neighbourhood  price  \\\n",
       "0                 unconfirmed            Brooklyn         Other    966   \n",
       "3                 unconfirmed            Brooklyn         Other    368   \n",
       "5                    verified           Manhattan         Other    577   \n",
       "10                   verified           Manhattan         Other    319   \n",
       "13                   verified            Brooklyn         Other    580   \n",
       "...                       ...                 ...           ...    ...   \n",
       "102580               verified              Queens         Other    609   \n",
       "102584               verified              Queens         Other    566   \n",
       "102588            unconfirmed           Manhattan         Other    618   \n",
       "102595            unconfirmed           Manhattan         Other    837   \n",
       "102597            unconfirmed              Queens         Other    546   \n",
       "\n",
       "        service fee  minimum nights  number of reviews  reviews per month  \\\n",
       "0               193            10.0                  9               0.21   \n",
       "3                74            30.0                270               4.64   \n",
       "5               115             3.0                 74               0.59   \n",
       "10               64             1.0                160               1.33   \n",
       "13              116             4.0                167               1.34   \n",
       "...             ...             ...                ...                ...   \n",
       "102580          122             1.0                209               4.38   \n",
       "102584          113             2.0                 89               1.82   \n",
       "102588          124             1.0                177               3.78   \n",
       "102595          167             1.0                  1               0.02   \n",
       "102597          109             2.0                  5               0.10   \n",
       "\n",
       "        review rate number  calculated host listings count  availability 365  \\\n",
       "0                      4.0                             6.0             286.0   \n",
       "3                      4.0                             1.0             322.0   \n",
       "5                      3.0                             1.0             374.0   \n",
       "10                     3.0                             4.0               1.0   \n",
       "13                     4.0                             3.0              47.0   \n",
       "...                    ...                             ...               ...   \n",
       "102580                 3.0                             1.0             270.0   \n",
       "102584                 2.0                             1.0             394.0   \n",
       "102588                 4.0                             1.0             410.0   \n",
       "102595                 2.0                             2.0             395.0   \n",
       "102597                 3.0                             1.0             386.0   \n",
       "\n",
       "        lr_year  lr_month  lr_day  \n",
       "0          2021        10      19  \n",
       "3          2019         7       5  \n",
       "5          2019         6      22  \n",
       "10         2019         6       9  \n",
       "13         2019         6      24  \n",
       "...         ...       ...     ...  \n",
       "102580     2019         6      11  \n",
       "102584     2019         5      26  \n",
       "102588     2019         6      29  \n",
       "102595     2015         7       6  \n",
       "102597     2015        10      11  \n",
       "\n",
       "[30299 rows x 14 columns]"
      ]
     },
     "execution_count": 57,
     "metadata": {},
     "output_type": "execute_result"
    }
   ],
   "source": [
    "# Set the neighborhood groups outside of top 21 to Other\n",
    "outside21_df.loc[:,'neighbourhood'] = 'Other'\n",
    "outside21_df"
   ]
  },
  {
   "cell_type": "code",
   "execution_count": 58,
   "metadata": {},
   "outputs": [
    {
     "data": {
      "text/html": [
       "<div>\n",
       "<style scoped>\n",
       "    .dataframe tbody tr th:only-of-type {\n",
       "        vertical-align: middle;\n",
       "    }\n",
       "\n",
       "    .dataframe tbody tr th {\n",
       "        vertical-align: top;\n",
       "    }\n",
       "\n",
       "    .dataframe thead th {\n",
       "        text-align: right;\n",
       "    }\n",
       "</style>\n",
       "<table border=\"1\" class=\"dataframe\">\n",
       "  <thead>\n",
       "    <tr style=\"text-align: right;\">\n",
       "      <th></th>\n",
       "      <th>host_identity_verified</th>\n",
       "      <th>neighbourhood group</th>\n",
       "      <th>neighbourhood</th>\n",
       "      <th>price</th>\n",
       "      <th>service fee</th>\n",
       "      <th>minimum nights</th>\n",
       "      <th>number of reviews</th>\n",
       "      <th>reviews per month</th>\n",
       "      <th>review rate number</th>\n",
       "      <th>calculated host listings count</th>\n",
       "      <th>availability 365</th>\n",
       "      <th>lr_year</th>\n",
       "      <th>lr_month</th>\n",
       "      <th>lr_day</th>\n",
       "    </tr>\n",
       "  </thead>\n",
       "  <tbody>\n",
       "    <tr>\n",
       "      <th>1</th>\n",
       "      <td>verified</td>\n",
       "      <td>Manhattan</td>\n",
       "      <td>Midtown</td>\n",
       "      <td>142</td>\n",
       "      <td>28</td>\n",
       "      <td>30.0</td>\n",
       "      <td>45</td>\n",
       "      <td>0.38</td>\n",
       "      <td>4.0</td>\n",
       "      <td>2.0</td>\n",
       "      <td>228.0</td>\n",
       "      <td>2022</td>\n",
       "      <td>5</td>\n",
       "      <td>21</td>\n",
       "    </tr>\n",
       "    <tr>\n",
       "      <th>4</th>\n",
       "      <td>verified</td>\n",
       "      <td>Manhattan</td>\n",
       "      <td>East Harlem</td>\n",
       "      <td>204</td>\n",
       "      <td>41</td>\n",
       "      <td>10.0</td>\n",
       "      <td>9</td>\n",
       "      <td>0.10</td>\n",
       "      <td>3.0</td>\n",
       "      <td>1.0</td>\n",
       "      <td>289.0</td>\n",
       "      <td>2018</td>\n",
       "      <td>11</td>\n",
       "      <td>19</td>\n",
       "    </tr>\n",
       "    <tr>\n",
       "      <th>6</th>\n",
       "      <td>unconfirmed</td>\n",
       "      <td>Brooklyn</td>\n",
       "      <td>Bedford-Stuyvesant</td>\n",
       "      <td>71</td>\n",
       "      <td>14</td>\n",
       "      <td>45.0</td>\n",
       "      <td>49</td>\n",
       "      <td>0.40</td>\n",
       "      <td>5.0</td>\n",
       "      <td>1.0</td>\n",
       "      <td>224.0</td>\n",
       "      <td>2017</td>\n",
       "      <td>10</td>\n",
       "      <td>5</td>\n",
       "    </tr>\n",
       "    <tr>\n",
       "      <th>7</th>\n",
       "      <td>unconfirmed</td>\n",
       "      <td>Brooklyn</td>\n",
       "      <td>Bedford-Stuyvesant</td>\n",
       "      <td>1060</td>\n",
       "      <td>212</td>\n",
       "      <td>45.0</td>\n",
       "      <td>49</td>\n",
       "      <td>0.40</td>\n",
       "      <td>5.0</td>\n",
       "      <td>1.0</td>\n",
       "      <td>219.0</td>\n",
       "      <td>2017</td>\n",
       "      <td>10</td>\n",
       "      <td>5</td>\n",
       "    </tr>\n",
       "    <tr>\n",
       "      <th>8</th>\n",
       "      <td>verified</td>\n",
       "      <td>Manhattan</td>\n",
       "      <td>Hell's Kitchen</td>\n",
       "      <td>1018</td>\n",
       "      <td>204</td>\n",
       "      <td>2.0</td>\n",
       "      <td>430</td>\n",
       "      <td>3.47</td>\n",
       "      <td>3.0</td>\n",
       "      <td>1.0</td>\n",
       "      <td>180.0</td>\n",
       "      <td>2019</td>\n",
       "      <td>6</td>\n",
       "      <td>24</td>\n",
       "    </tr>\n",
       "    <tr>\n",
       "      <th>...</th>\n",
       "      <td>...</td>\n",
       "      <td>...</td>\n",
       "      <td>...</td>\n",
       "      <td>...</td>\n",
       "      <td>...</td>\n",
       "      <td>...</td>\n",
       "      <td>...</td>\n",
       "      <td>...</td>\n",
       "      <td>...</td>\n",
       "      <td>...</td>\n",
       "      <td>...</td>\n",
       "      <td>...</td>\n",
       "      <td>...</td>\n",
       "      <td>...</td>\n",
       "    </tr>\n",
       "    <tr>\n",
       "      <th>102580</th>\n",
       "      <td>verified</td>\n",
       "      <td>Queens</td>\n",
       "      <td>Other</td>\n",
       "      <td>609</td>\n",
       "      <td>122</td>\n",
       "      <td>1.0</td>\n",
       "      <td>209</td>\n",
       "      <td>4.38</td>\n",
       "      <td>3.0</td>\n",
       "      <td>1.0</td>\n",
       "      <td>270.0</td>\n",
       "      <td>2019</td>\n",
       "      <td>6</td>\n",
       "      <td>11</td>\n",
       "    </tr>\n",
       "    <tr>\n",
       "      <th>102584</th>\n",
       "      <td>verified</td>\n",
       "      <td>Queens</td>\n",
       "      <td>Other</td>\n",
       "      <td>566</td>\n",
       "      <td>113</td>\n",
       "      <td>2.0</td>\n",
       "      <td>89</td>\n",
       "      <td>1.82</td>\n",
       "      <td>2.0</td>\n",
       "      <td>1.0</td>\n",
       "      <td>394.0</td>\n",
       "      <td>2019</td>\n",
       "      <td>5</td>\n",
       "      <td>26</td>\n",
       "    </tr>\n",
       "    <tr>\n",
       "      <th>102588</th>\n",
       "      <td>unconfirmed</td>\n",
       "      <td>Manhattan</td>\n",
       "      <td>Other</td>\n",
       "      <td>618</td>\n",
       "      <td>124</td>\n",
       "      <td>1.0</td>\n",
       "      <td>177</td>\n",
       "      <td>3.78</td>\n",
       "      <td>4.0</td>\n",
       "      <td>1.0</td>\n",
       "      <td>410.0</td>\n",
       "      <td>2019</td>\n",
       "      <td>6</td>\n",
       "      <td>29</td>\n",
       "    </tr>\n",
       "    <tr>\n",
       "      <th>102595</th>\n",
       "      <td>unconfirmed</td>\n",
       "      <td>Manhattan</td>\n",
       "      <td>Other</td>\n",
       "      <td>837</td>\n",
       "      <td>167</td>\n",
       "      <td>1.0</td>\n",
       "      <td>1</td>\n",
       "      <td>0.02</td>\n",
       "      <td>2.0</td>\n",
       "      <td>2.0</td>\n",
       "      <td>395.0</td>\n",
       "      <td>2015</td>\n",
       "      <td>7</td>\n",
       "      <td>6</td>\n",
       "    </tr>\n",
       "    <tr>\n",
       "      <th>102597</th>\n",
       "      <td>unconfirmed</td>\n",
       "      <td>Queens</td>\n",
       "      <td>Other</td>\n",
       "      <td>546</td>\n",
       "      <td>109</td>\n",
       "      <td>2.0</td>\n",
       "      <td>5</td>\n",
       "      <td>0.10</td>\n",
       "      <td>3.0</td>\n",
       "      <td>1.0</td>\n",
       "      <td>386.0</td>\n",
       "      <td>2015</td>\n",
       "      <td>10</td>\n",
       "      <td>11</td>\n",
       "    </tr>\n",
       "  </tbody>\n",
       "</table>\n",
       "<p>86017 rows × 14 columns</p>\n",
       "</div>"
      ],
      "text/plain": [
       "       host_identity_verified neighbourhood group       neighbourhood  price  \\\n",
       "1                    verified           Manhattan             Midtown    142   \n",
       "4                    verified           Manhattan         East Harlem    204   \n",
       "6                 unconfirmed            Brooklyn  Bedford-Stuyvesant     71   \n",
       "7                 unconfirmed            Brooklyn  Bedford-Stuyvesant   1060   \n",
       "8                    verified           Manhattan      Hell's Kitchen   1018   \n",
       "...                       ...                 ...                 ...    ...   \n",
       "102580               verified              Queens               Other    609   \n",
       "102584               verified              Queens               Other    566   \n",
       "102588            unconfirmed           Manhattan               Other    618   \n",
       "102595            unconfirmed           Manhattan               Other    837   \n",
       "102597            unconfirmed              Queens               Other    546   \n",
       "\n",
       "        service fee  minimum nights  number of reviews  reviews per month  \\\n",
       "1                28            30.0                 45               0.38   \n",
       "4                41            10.0                  9               0.10   \n",
       "6                14            45.0                 49               0.40   \n",
       "7               212            45.0                 49               0.40   \n",
       "8               204             2.0                430               3.47   \n",
       "...             ...             ...                ...                ...   \n",
       "102580          122             1.0                209               4.38   \n",
       "102584          113             2.0                 89               1.82   \n",
       "102588          124             1.0                177               3.78   \n",
       "102595          167             1.0                  1               0.02   \n",
       "102597          109             2.0                  5               0.10   \n",
       "\n",
       "        review rate number  calculated host listings count  availability 365  \\\n",
       "1                      4.0                             2.0             228.0   \n",
       "4                      3.0                             1.0             289.0   \n",
       "6                      5.0                             1.0             224.0   \n",
       "7                      5.0                             1.0             219.0   \n",
       "8                      3.0                             1.0             180.0   \n",
       "...                    ...                             ...               ...   \n",
       "102580                 3.0                             1.0             270.0   \n",
       "102584                 2.0                             1.0             394.0   \n",
       "102588                 4.0                             1.0             410.0   \n",
       "102595                 2.0                             2.0             395.0   \n",
       "102597                 3.0                             1.0             386.0   \n",
       "\n",
       "        lr_year  lr_month  lr_day  \n",
       "1          2022         5      21  \n",
       "4          2018        11      19  \n",
       "6          2017        10       5  \n",
       "7          2017        10       5  \n",
       "8          2019         6      24  \n",
       "...         ...       ...     ...  \n",
       "102580     2019         6      11  \n",
       "102584     2019         5      26  \n",
       "102588     2019         6      29  \n",
       "102595     2015         7       6  \n",
       "102597     2015        10      11  \n",
       "\n",
       "[86017 rows x 14 columns]"
      ]
     },
     "execution_count": 58,
     "metadata": {},
     "output_type": "execute_result"
    }
   ],
   "source": [
    "# Concat back top 21 df and outside 21 df\n",
    "combined_df = [top21_df, outside21_df]\n",
    "main_df = pd.concat(combined_df)\n",
    "main_df"
   ]
  },
  {
   "cell_type": "code",
   "execution_count": 59,
   "metadata": {},
   "outputs": [
    {
     "data": {
      "text/plain": [
       "Other                        30299\n",
       "Bedford-Stuyvesant            6963\n",
       "Williamsburg                  6526\n",
       "Harlem                        4712\n",
       "Bushwick                      4102\n",
       "Hell's Kitchen                3275\n",
       "Upper West Side               3101\n",
       "Upper East Side               3031\n",
       "East Village                  2891\n",
       "Crown Heights                 2774\n",
       "Midtown                       2496\n",
       "East Harlem                   2047\n",
       "Chelsea                       1832\n",
       "Greenpoint                    1721\n",
       "Lower East Side               1654\n",
       "Astoria                       1565\n",
       "Washington Heights            1470\n",
       "West Village                  1229\n",
       "Financial District            1137\n",
       "Flatbush                      1087\n",
       "East Flatbush                 1083\n",
       "Prospect-Lefferts Gardens     1022\n",
       "Name: neighbourhood, dtype: int64"
      ]
     },
     "execution_count": 59,
     "metadata": {},
     "output_type": "execute_result"
    }
   ],
   "source": [
    "# Check back value counts\n",
    "#main_df[main_df['neighbourhood'] == 'Other']\n",
    "main_df['neighbourhood'].value_counts()"
   ]
  },
  {
   "cell_type": "markdown",
   "metadata": {},
   "source": [
    "# Data Analysis"
   ]
  },
  {
   "cell_type": "code",
   "execution_count": 60,
   "metadata": {},
   "outputs": [
    {
     "data": {
      "text/plain": [
       "Other                        30299\n",
       "Bedford-Stuyvesant            6963\n",
       "Williamsburg                  6526\n",
       "Harlem                        4712\n",
       "Bushwick                      4102\n",
       "Hell's Kitchen                3275\n",
       "Upper West Side               3101\n",
       "Upper East Side               3031\n",
       "East Village                  2891\n",
       "Crown Heights                 2774\n",
       "Midtown                       2496\n",
       "East Harlem                   2047\n",
       "Chelsea                       1832\n",
       "Greenpoint                    1721\n",
       "Lower East Side               1654\n",
       "Astoria                       1565\n",
       "Washington Heights            1470\n",
       "West Village                  1229\n",
       "Financial District            1137\n",
       "Flatbush                      1087\n",
       "East Flatbush                 1083\n",
       "Prospect-Lefferts Gardens     1022\n",
       "Name: neighbourhood, dtype: int64"
      ]
     },
     "execution_count": 60,
     "metadata": {},
     "output_type": "execute_result"
    }
   ],
   "source": [
    "neighborhood_count = main_df['neighbourhood'].value_counts().head(25)\n",
    "neighborhood_count"
   ]
  },
  {
   "cell_type": "code",
   "execution_count": 61,
   "metadata": {},
   "outputs": [
    {
     "data": {
      "image/png": "[encoded data removed]",
      "text/plain": [
       "<Figure size 1080x432 with 1 Axes>"
      ]
     },
     "metadata": {},
     "output_type": "display_data"
    }
   ],
   "source": [
    "neighborhood_count.plot(kind='bar',figsize=(15,6))\n",
    "plt.ylabel('Number of AirBnBs')\n",
    "plt.title('AirBnBs by Neighbourhood');"
   ]
  },
  {
   "cell_type": "markdown",
   "metadata": {},
   "source": [
    "Seems like people frequently stay in Bedford-Stuyvesant and Williamsburg the most."
   ]
  },
  {
   "cell_type": "code",
   "execution_count": 62,
   "metadata": {},
   "outputs": [
    {
     "data": {
      "text/html": [
       "<div>\n",
       "<style scoped>\n",
       "    .dataframe tbody tr th:only-of-type {\n",
       "        vertical-align: middle;\n",
       "    }\n",
       "\n",
       "    .dataframe tbody tr th {\n",
       "        vertical-align: top;\n",
       "    }\n",
       "\n",
       "    .dataframe thead th {\n",
       "        text-align: right;\n",
       "    }\n",
       "</style>\n",
       "<table border=\"1\" class=\"dataframe\">\n",
       "  <thead>\n",
       "    <tr style=\"text-align: right;\">\n",
       "      <th></th>\n",
       "      <th>price</th>\n",
       "      <th>minimum nights</th>\n",
       "    </tr>\n",
       "    <tr>\n",
       "      <th>neighbourhood</th>\n",
       "      <th></th>\n",
       "      <th></th>\n",
       "    </tr>\n",
       "  </thead>\n",
       "  <tbody>\n",
       "    <tr>\n",
       "      <th>Flatbush</th>\n",
       "      <td>649.732291</td>\n",
       "      <td>5.634775</td>\n",
       "    </tr>\n",
       "    <tr>\n",
       "      <th>West Village</th>\n",
       "      <td>639.384052</td>\n",
       "      <td>8.522622</td>\n",
       "    </tr>\n",
       "    <tr>\n",
       "      <th>East Flatbush</th>\n",
       "      <td>638.896584</td>\n",
       "      <td>7.335646</td>\n",
       "    </tr>\n",
       "    <tr>\n",
       "      <th>Prospect-Lefferts Gardens</th>\n",
       "      <td>637.556751</td>\n",
       "      <td>5.952252</td>\n",
       "    </tr>\n",
       "    <tr>\n",
       "      <th>Astoria</th>\n",
       "      <td>636.775719</td>\n",
       "      <td>6.466647</td>\n",
       "    </tr>\n",
       "    <tr>\n",
       "      <th>Bushwick</th>\n",
       "      <td>629.920770</td>\n",
       "      <td>7.470310</td>\n",
       "    </tr>\n",
       "    <tr>\n",
       "      <th>Other</th>\n",
       "      <td>627.626126</td>\n",
       "      <td>7.092746</td>\n",
       "    </tr>\n",
       "    <tr>\n",
       "      <th>Harlem</th>\n",
       "      <td>626.583829</td>\n",
       "      <td>7.300790</td>\n",
       "    </tr>\n",
       "    <tr>\n",
       "      <th>Lower East Side</th>\n",
       "      <td>624.380895</td>\n",
       "      <td>6.172859</td>\n",
       "    </tr>\n",
       "    <tr>\n",
       "      <th>Williamsburg</th>\n",
       "      <td>623.298192</td>\n",
       "      <td>6.774705</td>\n",
       "    </tr>\n",
       "    <tr>\n",
       "      <th>Chelsea</th>\n",
       "      <td>623.123362</td>\n",
       "      <td>9.607268</td>\n",
       "    </tr>\n",
       "    <tr>\n",
       "      <th>Bedford-Stuyvesant</th>\n",
       "      <td>622.865862</td>\n",
       "      <td>6.296154</td>\n",
       "    </tr>\n",
       "    <tr>\n",
       "      <th>Crown Heights</th>\n",
       "      <td>622.171233</td>\n",
       "      <td>6.798886</td>\n",
       "    </tr>\n",
       "    <tr>\n",
       "      <th>East Harlem</th>\n",
       "      <td>621.854421</td>\n",
       "      <td>6.445140</td>\n",
       "    </tr>\n",
       "    <tr>\n",
       "      <th>Upper West Side</th>\n",
       "      <td>618.917768</td>\n",
       "      <td>9.845602</td>\n",
       "    </tr>\n",
       "    <tr>\n",
       "      <th>Financial District</th>\n",
       "      <td>618.442392</td>\n",
       "      <td>7.967902</td>\n",
       "    </tr>\n",
       "    <tr>\n",
       "      <th>East Village</th>\n",
       "      <td>618.354549</td>\n",
       "      <td>7.200004</td>\n",
       "    </tr>\n",
       "    <tr>\n",
       "      <th>Hell's Kitchen</th>\n",
       "      <td>618.325802</td>\n",
       "      <td>9.078994</td>\n",
       "    </tr>\n",
       "    <tr>\n",
       "      <th>Upper East Side</th>\n",
       "      <td>617.705048</td>\n",
       "      <td>11.580703</td>\n",
       "    </tr>\n",
       "    <tr>\n",
       "      <th>Greenpoint</th>\n",
       "      <td>615.894829</td>\n",
       "      <td>7.782978</td>\n",
       "    </tr>\n",
       "    <tr>\n",
       "      <th>Midtown</th>\n",
       "      <td>604.850561</td>\n",
       "      <td>9.650204</td>\n",
       "    </tr>\n",
       "    <tr>\n",
       "      <th>Washington Heights</th>\n",
       "      <td>597.857823</td>\n",
       "      <td>7.688236</td>\n",
       "    </tr>\n",
       "  </tbody>\n",
       "</table>\n",
       "</div>"
      ],
      "text/plain": [
       "                                price  minimum nights\n",
       "neighbourhood                                        \n",
       "Flatbush                   649.732291        5.634775\n",
       "West Village               639.384052        8.522622\n",
       "East Flatbush              638.896584        7.335646\n",
       "Prospect-Lefferts Gardens  637.556751        5.952252\n",
       "Astoria                    636.775719        6.466647\n",
       "Bushwick                   629.920770        7.470310\n",
       "Other                      627.626126        7.092746\n",
       "Harlem                     626.583829        7.300790\n",
       "Lower East Side            624.380895        6.172859\n",
       "Williamsburg               623.298192        6.774705\n",
       "Chelsea                    623.123362        9.607268\n",
       "Bedford-Stuyvesant         622.865862        6.296154\n",
       "Crown Heights              622.171233        6.798886\n",
       "East Harlem                621.854421        6.445140\n",
       "Upper West Side            618.917768        9.845602\n",
       "Financial District         618.442392        7.967902\n",
       "East Village               618.354549        7.200004\n",
       "Hell's Kitchen             618.325802        9.078994\n",
       "Upper East Side            617.705048       11.580703\n",
       "Greenpoint                 615.894829        7.782978\n",
       "Midtown                    604.850561        9.650204\n",
       "Washington Heights         597.857823        7.688236"
      ]
     },
     "execution_count": 62,
     "metadata": {},
     "output_type": "execute_result"
    }
   ],
   "source": [
    "# Neighborhood Average Price\n",
    "neighborhood_price = main_df[['price','neighbourhood','minimum nights']].groupby('neighbourhood').mean().sort_values(by='price',ascending=False)\n",
    "neighborhood_price"
   ]
  },
  {
   "cell_type": "code",
   "execution_count": 63,
   "metadata": {},
   "outputs": [
    {
     "data": {
      "image/png": "[encoded data removed]",
      "text/plain": [
       "<Figure size 1296x720 with 1 Axes>"
      ]
     },
     "metadata": {},
     "output_type": "display_data"
    }
   ],
   "source": [
    "neighborhood_price.plot(kind='bar',figsize=(18,10))\n",
    "plt.ylabel('Average Price ')\n",
    "plt.title('Average Price of AirBnBs by Neighbourhood');"
   ]
  },
  {
   "cell_type": "markdown",
   "metadata": {},
   "source": [
    "People spend the most money in Flatbush, West Village, East Flatbush, Prospect-Lefferts Gardens, and Astoria."
   ]
  },
  {
   "cell_type": "code",
   "execution_count": 72,
   "metadata": {},
   "outputs": [
    {
     "data": {
      "text/html": [
       "<div>\n",
       "<style scoped>\n",
       "    .dataframe tbody tr th:only-of-type {\n",
       "        vertical-align: middle;\n",
       "    }\n",
       "\n",
       "    .dataframe tbody tr th {\n",
       "        vertical-align: top;\n",
       "    }\n",
       "\n",
       "    .dataframe thead th {\n",
       "        text-align: right;\n",
       "    }\n",
       "</style>\n",
       "<table border=\"1\" class=\"dataframe\">\n",
       "  <thead>\n",
       "    <tr style=\"text-align: right;\">\n",
       "      <th></th>\n",
       "      <th>price</th>\n",
       "      <th>minimum nights</th>\n",
       "    </tr>\n",
       "    <tr>\n",
       "      <th>neighbourhood</th>\n",
       "      <th></th>\n",
       "      <th></th>\n",
       "    </tr>\n",
       "  </thead>\n",
       "  <tbody>\n",
       "    <tr>\n",
       "      <th>Upper East Side</th>\n",
       "      <td>617.705048</td>\n",
       "      <td>11.580703</td>\n",
       "    </tr>\n",
       "    <tr>\n",
       "      <th>Upper West Side</th>\n",
       "      <td>618.917768</td>\n",
       "      <td>9.845602</td>\n",
       "    </tr>\n",
       "    <tr>\n",
       "      <th>Midtown</th>\n",
       "      <td>604.850561</td>\n",
       "      <td>9.650204</td>\n",
       "    </tr>\n",
       "    <tr>\n",
       "      <th>Chelsea</th>\n",
       "      <td>623.123362</td>\n",
       "      <td>9.607268</td>\n",
       "    </tr>\n",
       "    <tr>\n",
       "      <th>Hell's Kitchen</th>\n",
       "      <td>618.325802</td>\n",
       "      <td>9.078994</td>\n",
       "    </tr>\n",
       "    <tr>\n",
       "      <th>West Village</th>\n",
       "      <td>639.384052</td>\n",
       "      <td>8.522622</td>\n",
       "    </tr>\n",
       "    <tr>\n",
       "      <th>Financial District</th>\n",
       "      <td>618.442392</td>\n",
       "      <td>7.967902</td>\n",
       "    </tr>\n",
       "    <tr>\n",
       "      <th>Greenpoint</th>\n",
       "      <td>615.894829</td>\n",
       "      <td>7.782978</td>\n",
       "    </tr>\n",
       "    <tr>\n",
       "      <th>Washington Heights</th>\n",
       "      <td>597.857823</td>\n",
       "      <td>7.688236</td>\n",
       "    </tr>\n",
       "    <tr>\n",
       "      <th>Bushwick</th>\n",
       "      <td>629.920770</td>\n",
       "      <td>7.470310</td>\n",
       "    </tr>\n",
       "  </tbody>\n",
       "</table>\n",
       "</div>"
      ],
      "text/plain": [
       "                         price  minimum nights\n",
       "neighbourhood                                 \n",
       "Upper East Side     617.705048       11.580703\n",
       "Upper West Side     618.917768        9.845602\n",
       "Midtown             604.850561        9.650204\n",
       "Chelsea             623.123362        9.607268\n",
       "Hell's Kitchen      618.325802        9.078994\n",
       "West Village        639.384052        8.522622\n",
       "Financial District  618.442392        7.967902\n",
       "Greenpoint          615.894829        7.782978\n",
       "Washington Heights  597.857823        7.688236\n",
       "Bushwick            629.920770        7.470310"
      ]
     },
     "execution_count": 72,
     "metadata": {},
     "output_type": "execute_result"
    }
   ],
   "source": [
    "# Neighborhood Average Price sorted by minimum nights\n",
    "neighborhood_min_nights = main_df[['price','neighbourhood','minimum nights']].groupby('neighbourhood').mean().sort_values(by='minimum nights',ascending=False).head(10)\n",
    "neighborhood_min_nights"
   ]
  },
  {
   "cell_type": "code",
   "execution_count": 77,
   "metadata": {},
   "outputs": [
    {
     "data": {
      "image/png": "[encoded data removed]",
      "text/plain": [
       "<Figure size 720x648 with 1 Axes>"
      ]
     },
     "metadata": {},
     "output_type": "display_data"
    }
   ],
   "source": [
    "neighborhood_min_nights.plot(kind='bar',figsize=(10,9))\n",
    "plt.ylabel('Average Price ')\n",
    "plt.title('Average Price of AirBnBs by Neighbourhood');"
   ]
  },
  {
   "cell_type": "markdown",
   "metadata": {},
   "source": [
    "People stay the longest in Upper East Side, Upper West Side, Midtown, Chelsea, and Hell's Kitchen."
   ]
  },
  {
   "cell_type": "code",
   "execution_count": 66,
   "metadata": {},
   "outputs": [
    {
     "data": {
      "text/html": [
       "<div>\n",
       "<style scoped>\n",
       "    .dataframe tbody tr th:only-of-type {\n",
       "        vertical-align: middle;\n",
       "    }\n",
       "\n",
       "    .dataframe tbody tr th {\n",
       "        vertical-align: top;\n",
       "    }\n",
       "\n",
       "    .dataframe thead th {\n",
       "        text-align: right;\n",
       "    }\n",
       "</style>\n",
       "<table border=\"1\" class=\"dataframe\">\n",
       "  <thead>\n",
       "    <tr style=\"text-align: right;\">\n",
       "      <th></th>\n",
       "      <th>price</th>\n",
       "      <th>minimum nights</th>\n",
       "    </tr>\n",
       "    <tr>\n",
       "      <th>neighbourhood group</th>\n",
       "      <th></th>\n",
       "      <th></th>\n",
       "    </tr>\n",
       "  </thead>\n",
       "  <tbody>\n",
       "    <tr>\n",
       "      <th>Queens</th>\n",
       "      <td>629.047969</td>\n",
       "      <td>6.070873</td>\n",
       "    </tr>\n",
       "    <tr>\n",
       "      <th>Bronx</th>\n",
       "      <td>628.259829</td>\n",
       "      <td>5.362738</td>\n",
       "    </tr>\n",
       "    <tr>\n",
       "      <th>Brooklyn</th>\n",
       "      <td>626.066669</td>\n",
       "      <td>6.836214</td>\n",
       "    </tr>\n",
       "    <tr>\n",
       "      <th>Manhattan</th>\n",
       "      <td>621.333417</td>\n",
       "      <td>8.750596</td>\n",
       "    </tr>\n",
       "    <tr>\n",
       "      <th>Staten Island</th>\n",
       "      <td>621.253538</td>\n",
       "      <td>5.062976</td>\n",
       "    </tr>\n",
       "  </tbody>\n",
       "</table>\n",
       "</div>"
      ],
      "text/plain": [
       "                          price  minimum nights\n",
       "neighbourhood group                            \n",
       "Queens               629.047969        6.070873\n",
       "Bronx                628.259829        5.362738\n",
       "Brooklyn             626.066669        6.836214\n",
       "Manhattan            621.333417        8.750596\n",
       "Staten Island        621.253538        5.062976"
      ]
     },
     "execution_count": 66,
     "metadata": {},
     "output_type": "execute_result"
    }
   ],
   "source": [
    "neighborhood_group_price = data[['price','neighbourhood group', 'minimum nights']].groupby('neighbourhood group').mean().sort_values(by='price',ascending=False)\n",
    "neighborhood_group_price"
   ]
  },
  {
   "cell_type": "markdown",
   "metadata": {},
   "source": [
    "All of NY's boroughs seem to have about the same average price."
   ]
  },
  {
   "cell_type": "code",
   "execution_count": 117,
   "metadata": {},
   "outputs": [],
   "source": [
    "# Creating a DF with just Neighborhood, Latitude, longitude and Price\n",
    "#neighborhood_locations = open_data[df_foliumn]\n",
    "#neighborhood_locations.info()"
   ]
  },
  {
   "cell_type": "code",
   "execution_count": 116,
   "metadata": {},
   "outputs": [],
   "source": [
    "#Converting price and removings NaNs\n",
    "#neighborhood_locations.loc[:, ['price']] = neighborhood_locations['price'].fillna('0')\n",
    "\n",
    "# Replacing NaNs in Price column with the average price of an Airbnb in NY\n",
    "# First need to convert str to integer\n",
    "#neighborhood_locations.loc[:, ['price']] = neighborhood_locations['price'].str.replace(',', '')\n",
    "#neighborhood_locations.loc[:, ['price']] = neighborhood_locations['price'].str.replace('$', '')\n",
    "#neighborhood_locations.loc[:, ['price']] = neighborhood_locations['price'].astype(int)\n",
    "#neighborhood_locations['price'].dtype"
   ]
  },
  {
   "cell_type": "code",
   "execution_count": 115,
   "metadata": {},
   "outputs": [],
   "source": [
    "#Check for NaNs\n",
    "#neighborhood_locations.isna().sum()"
   ]
  },
  {
   "cell_type": "code",
   "execution_count": 114,
   "metadata": {},
   "outputs": [],
   "source": [
    "#neighborhood_locations.dropna(subset= ['neighbourhood', 'lat', 'long'], inplace=True)\n",
    "# Final Check for NaNs\n",
    "#neighborhood_locations.isna().sum()"
   ]
  },
  {
   "cell_type": "code",
   "execution_count": 67,
   "metadata": {},
   "outputs": [
    {
     "data": {
      "image/png": "[encoded data removed]",
      "text/plain": [
       "<Figure size 1440x1296 with 12 Axes>"
      ]
     },
     "metadata": {},
     "output_type": "display_data"
    }
   ],
   "source": [
    "data.hist(figsize = (20,18));"
   ]
  },
  {
   "cell_type": "markdown",
   "metadata": {},
   "source": [
    "Not much normal distribution going on within these graphs."
   ]
  },
  {
   "cell_type": "code",
   "execution_count": 68,
   "metadata": {},
   "outputs": [
    {
     "data": {
      "image/png": "[encoded data removed]",
      "text/plain": [
       "<Figure size 1080x720 with 1 Axes>"
      ]
     },
     "metadata": {},
     "output_type": "display_data"
    }
   ],
   "source": [
    "# Relationship between price and service fee\n",
    "plt.figure(figsize=(15,10))\n",
    "plt.title(\"Relationship between Price and Service Fee\", size=25, color=\"red\")\n",
    "sns.scatterplot(x=data.price, y=data['service fee'] );"
   ]
  },
  {
   "cell_type": "markdown",
   "metadata": {},
   "source": [
    "High room price means the service price will also be high."
   ]
  },
  {
   "cell_type": "code",
   "execution_count": 69,
   "metadata": {},
   "outputs": [
    {
     "data": {
      "text/plain": [
       "2.0     21193\n",
       "1.0     20963\n",
       "3.0     14143\n",
       "30.0     9366\n",
       "4.0      5667\n",
       "Name: minimum nights, dtype: int64"
      ]
     },
     "execution_count": 69,
     "metadata": {},
     "output_type": "execute_result"
    }
   ],
   "source": [
    "min_nights = data['minimum nights'].value_counts().head()\n",
    "min_nights"
   ]
  },
  {
   "cell_type": "code",
   "execution_count": 70,
   "metadata": {},
   "outputs": [
    {
     "data": {
      "image/png": "[encoded data removed]",
      "text/plain": [
       "<Figure size 1080x432 with 1 Axes>"
      ]
     },
     "metadata": {},
     "output_type": "display_data"
    }
   ],
   "source": [
    "min_nights.plot(kind='bar', figsize=(15,6))\n",
    "plt.ylabel('Number of Bookings')\n",
    "plt.title('Minimum Nights Required for Booking');"
   ]
  },
  {
   "cell_type": "markdown",
   "metadata": {},
   "source": [
    "Visualizing minimum nights required for booking. Most popular is 2 nights. Closely followed is 1 night then 3. Weirdly, 4th is 30 nights and last is 4 nights. \n",
    "The New York City Airbnb law says it's illegal to rent apartments for fewer than 30 days in most buildings, particularly Class A dwellings. "
   ]
  },
  {
   "cell_type": "code",
   "execution_count": 71,
   "metadata": {},
   "outputs": [
    {
     "data": {
      "text/plain": [
       "Index(['host_identity_verified', 'neighbourhood group', 'neighbourhood',\n",
       "       'price', 'service fee', 'minimum nights', 'number of reviews',\n",
       "       'reviews per month', 'review rate number',\n",
       "       'calculated host listings count', 'availability 365', 'lr_year',\n",
       "       'lr_month', 'lr_day'],\n",
       "      dtype='object')"
      ]
     },
     "execution_count": 71,
     "metadata": {},
     "output_type": "execute_result"
    }
   ],
   "source": [
    "data.columns"
   ]
  },
  {
   "cell_type": "markdown",
   "metadata": {},
   "source": [
    "## Check Correlation "
   ]
  },
  {
   "cell_type": "code",
   "execution_count": 72,
   "metadata": {},
   "outputs": [],
   "source": [
    "check_corr = data.drop('price', axis=1)\n",
    "corr = check_corr.corr()"
   ]
  },
  {
   "cell_type": "code",
   "execution_count": 73,
   "metadata": {},
   "outputs": [
    {
     "data": {
      "image/png": "[encoded data removed]",
      "text/plain": [
       "<Figure size 432x288 with 2 Axes>"
      ]
     },
     "metadata": {},
     "output_type": "display_data"
    }
   ],
   "source": [
    "sns.heatmap(corr, center=0, annot=True);"
   ]
  },
  {
   "cell_type": "markdown",
   "metadata": {},
   "source": [
    "No columns really show any correlations to one another, so there is no need to remove and similar columns."
   ]
  },
  {
   "cell_type": "markdown",
   "metadata": {},
   "source": [
    "## Separating Continuous and Categorical Data & Creating Target Variable"
   ]
  },
  {
   "cell_type": "code",
   "execution_count": 74,
   "metadata": {},
   "outputs": [],
   "source": [
    "# Removed 'price' from continuous and last review because it was a dtype datetime\n",
    "# Removed host id and host name b/c it isn't necessary \n",
    "continuous = ['service fee', 'minimum nights','number of reviews','reviews per month',\n",
    "             'review rate number', 'calculated host listings count', 'availability 365',\n",
    "             'lr_year', 'lr_month','lr_day']\n",
    "categoricals = ['host_identity_verified','neighbourhood group','neighbourhood']\n",
    "# Creating Continuous without service fee b/c it is so highly correlated with price\n",
    "continuous2 = ['minimum nights','number of reviews','reviews per month',\n",
    "             'review rate number', 'calculated host listings count', 'availability 365',\n",
    "             'lr_year', 'lr_month','lr_day']\n"
   ]
  },
  {
   "cell_type": "code",
   "execution_count": 75,
   "metadata": {},
   "outputs": [],
   "source": [
    "data_cont = main_df[continuous]\n",
    "data_cont2= main_df[continuous2]\n",
    "data_cat = main_df[categoricals]"
   ]
  },
  {
   "cell_type": "code",
   "execution_count": 76,
   "metadata": {},
   "outputs": [],
   "source": [
    "# Create Target variable\n",
    "target = main_df['price']\n",
    "main_dataframe = main_df.drop('price', axis=1)\n",
    "# Creating main_dataframe2 because service fee is so highly correlated\n",
    "main_dataframe2 = main_df.drop(['price', 'service fee'], axis=1)"
   ]
  },
  {
   "cell_type": "markdown",
   "metadata": {},
   "source": [
    "## Train & Test Split + One Hot Encoding"
   ]
  },
  {
   "cell_type": "code",
   "execution_count": 77,
   "metadata": {},
   "outputs": [],
   "source": [
    "data_train, data_test, target_train, target_test = train_test_split(main_dataframe, target, \n",
    "                                                                    test_size = 0.25, random_state=123)"
   ]
  },
  {
   "cell_type": "code",
   "execution_count": 78,
   "metadata": {},
   "outputs": [
    {
     "data": {
      "text/plain": [
       "(64512, 3)"
      ]
     },
     "execution_count": 78,
     "metadata": {},
     "output_type": "execute_result"
    }
   ],
   "source": [
    "ohe = OneHotEncoder(categories=\"auto\", sparse=False, handle_unknown=\"ignore\")\n",
    "ohe_train = ohe.fit_transform(data_train[categoricals])\n",
    "data_train[categoricals].shape"
   ]
  },
  {
   "cell_type": "code",
   "execution_count": 79,
   "metadata": {},
   "outputs": [
    {
     "data": {
      "text/plain": [
       "(64512, 29)"
      ]
     },
     "execution_count": 79,
     "metadata": {},
     "output_type": "execute_result"
    }
   ],
   "source": [
    "ohe_train.shape"
   ]
  },
  {
   "cell_type": "code",
   "execution_count": 80,
   "metadata": {},
   "outputs": [],
   "source": [
    "# Create transformed dataframe\n",
    "ohe_train = pd.DataFrame(\n",
    "    ohe_train,\n",
    "    columns=ohe.get_feature_names(), index=data_train.index\n",
    "    \n",
    ")\n",
    "# Replace categorical data with encoded data\n",
    "data_train.drop(categoricals, axis=1, inplace=True)\n",
    "data_train = pd.concat([ohe_train, data_train], axis=1)"
   ]
  },
  {
   "cell_type": "code",
   "execution_count": 81,
   "metadata": {},
   "outputs": [
    {
     "name": "stdout",
     "output_type": "stream",
     "text": [
      "<class 'pandas.core.frame.DataFrame'>\n",
      "Int64Index: 64512 entries, 61735 to 28036\n",
      "Data columns (total 39 columns):\n",
      " #   Column                          Non-Null Count  Dtype  \n",
      "---  ------                          --------------  -----  \n",
      " 0   x0_unconfirmed                  64512 non-null  float64\n",
      " 1   x0_verified                     64512 non-null  float64\n",
      " 2   x1_Bronx                        64512 non-null  float64\n",
      " 3   x1_Brooklyn                     64512 non-null  float64\n",
      " 4   x1_Manhattan                    64512 non-null  float64\n",
      " 5   x1_Queens                       64512 non-null  float64\n",
      " 6   x1_Staten Island                64512 non-null  float64\n",
      " 7   x2_Astoria                      64512 non-null  float64\n",
      " 8   x2_Bedford-Stuyvesant           64512 non-null  float64\n",
      " 9   x2_Bushwick                     64512 non-null  float64\n",
      " 10  x2_Chelsea                      64512 non-null  float64\n",
      " 11  x2_Crown Heights                64512 non-null  float64\n",
      " 12  x2_East Flatbush                64512 non-null  float64\n",
      " 13  x2_East Harlem                  64512 non-null  float64\n",
      " 14  x2_East Village                 64512 non-null  float64\n",
      " 15  x2_Financial District           64512 non-null  float64\n",
      " 16  x2_Flatbush                     64512 non-null  float64\n",
      " 17  x2_Greenpoint                   64512 non-null  float64\n",
      " 18  x2_Harlem                       64512 non-null  float64\n",
      " 19  x2_Hell's Kitchen               64512 non-null  float64\n",
      " 20  x2_Lower East Side              64512 non-null  float64\n",
      " 21  x2_Midtown                      64512 non-null  float64\n",
      " 22  x2_Other                        64512 non-null  float64\n",
      " 23  x2_Prospect-Lefferts Gardens    64512 non-null  float64\n",
      " 24  x2_Upper East Side              64512 non-null  float64\n",
      " 25  x2_Upper West Side              64512 non-null  float64\n",
      " 26  x2_Washington Heights           64512 non-null  float64\n",
      " 27  x2_West Village                 64512 non-null  float64\n",
      " 28  x2_Williamsburg                 64512 non-null  float64\n",
      " 29  service fee                     64512 non-null  int64  \n",
      " 30  minimum nights                  64512 non-null  float64\n",
      " 31  number of reviews               64512 non-null  int64  \n",
      " 32  reviews per month               64512 non-null  float64\n",
      " 33  review rate number              64512 non-null  float64\n",
      " 34  calculated host listings count  64512 non-null  float64\n",
      " 35  availability 365                64512 non-null  float64\n",
      " 36  lr_year                         64512 non-null  int64  \n",
      " 37  lr_month                        64512 non-null  int64  \n",
      " 38  lr_day                          64512 non-null  int64  \n",
      "dtypes: float64(34), int64(5)\n",
      "memory usage: 19.7 MB\n"
     ]
    }
   ],
   "source": [
    "data_train.info()"
   ]
  },
  {
   "cell_type": "code",
   "execution_count": 82,
   "metadata": {},
   "outputs": [],
   "source": [
    "# Use test \n",
    "\n",
    "# Create transformed dataframe\n",
    "ohe_test = ohe.transform(data_test[categoricals])\n",
    "\n",
    "ohe_test = pd.DataFrame(\n",
    "    ohe_test,\n",
    "    columns=ohe.get_feature_names(), index=data_test.index\n",
    "    \n",
    ")\n",
    "# Replace categorical data with encoded data\n",
    "data_test.drop(categoricals, axis=1, inplace=True)\n",
    "data_test = pd.concat([ohe_test, data_test], axis=1)"
   ]
  },
  {
   "cell_type": "markdown",
   "metadata": {},
   "source": [
    "## OLS Regression Results"
   ]
  },
  {
   "cell_type": "code",
   "execution_count": 83,
   "metadata": {},
   "outputs": [],
   "source": [
    "X = data_train\n",
    "y = target_train"
   ]
  },
  {
   "cell_type": "code",
   "execution_count": 84,
   "metadata": {},
   "outputs": [
    {
     "data": {
      "text/html": [
       "<table class=\"simpletable\">\n",
       "<caption>OLS Regression Results</caption>\n",
       "<tr>\n",
       "  <th>Dep. Variable:</th>          <td>price</td>      <th>  R-squared:         </th>  <td>   0.978</td>  \n",
       "</tr>\n",
       "<tr>\n",
       "  <th>Model:</th>                   <td>OLS</td>       <th>  Adj. R-squared:    </th>  <td>   0.978</td>  \n",
       "</tr>\n",
       "<tr>\n",
       "  <th>Method:</th>             <td>Least Squares</td>  <th>  F-statistic:       </th>  <td>8.093e+04</td> \n",
       "</tr>\n",
       "<tr>\n",
       "  <th>Date:</th>             <td>Mon, 24 Oct 2022</td> <th>  Prob (F-statistic):</th>   <td>  0.00</td>   \n",
       "</tr>\n",
       "<tr>\n",
       "  <th>Time:</th>                 <td>22:22:52</td>     <th>  Log-Likelihood:    </th> <td>-3.4255e+05</td>\n",
       "</tr>\n",
       "<tr>\n",
       "  <th>No. Observations:</th>      <td> 64512</td>      <th>  AIC:               </th>  <td>6.852e+05</td> \n",
       "</tr>\n",
       "<tr>\n",
       "  <th>Df Residuals:</th>          <td> 64475</td>      <th>  BIC:               </th>  <td>6.855e+05</td> \n",
       "</tr>\n",
       "<tr>\n",
       "  <th>Df Model:</th>              <td>    36</td>      <th>                     </th>      <td> </td>     \n",
       "</tr>\n",
       "<tr>\n",
       "  <th>Covariance Type:</th>      <td>nonrobust</td>    <th>                     </th>      <td> </td>     \n",
       "</tr>\n",
       "</table>\n",
       "<table class=\"simpletable\">\n",
       "<tr>\n",
       "                 <td></td>                   <th>coef</th>     <th>std err</th>      <th>t</th>      <th>P>|t|</th>  <th>[0.025</th>    <th>0.975]</th>  \n",
       "</tr>\n",
       "<tr>\n",
       "  <th>const</th>                          <td>  -88.5131</td> <td>  153.530</td> <td>   -0.577</td> <td> 0.564</td> <td> -389.432</td> <td>  212.405</td>\n",
       "</tr>\n",
       "<tr>\n",
       "  <th>x0_unconfirmed</th>                 <td>  -44.2086</td> <td>   76.765</td> <td>   -0.576</td> <td> 0.565</td> <td> -194.668</td> <td>  106.250</td>\n",
       "</tr>\n",
       "<tr>\n",
       "  <th>x0_verified</th>                    <td>  -44.3045</td> <td>   76.765</td> <td>   -0.577</td> <td> 0.564</td> <td> -194.765</td> <td>  106.156</td>\n",
       "</tr>\n",
       "<tr>\n",
       "  <th>x1_Bronx</th>                       <td>  -16.8736</td> <td>   30.756</td> <td>   -0.549</td> <td> 0.583</td> <td>  -77.154</td> <td>   43.407</td>\n",
       "</tr>\n",
       "<tr>\n",
       "  <th>x1_Brooklyn</th>                    <td>  -17.1883</td> <td>   30.689</td> <td>   -0.560</td> <td> 0.575</td> <td>  -77.340</td> <td>   42.963</td>\n",
       "</tr>\n",
       "<tr>\n",
       "  <th>x1_Manhattan</th>                   <td>  -17.6437</td> <td>   30.659</td> <td>   -0.575</td> <td> 0.565</td> <td>  -77.736</td> <td>   42.449</td>\n",
       "</tr>\n",
       "<tr>\n",
       "  <th>x1_Queens</th>                      <td>  -17.0828</td> <td>   30.725</td> <td>   -0.556</td> <td> 0.578</td> <td>  -77.304</td> <td>   43.139</td>\n",
       "</tr>\n",
       "<tr>\n",
       "  <th>x1_Staten Island</th>               <td>  -19.7248</td> <td>   30.782</td> <td>   -0.641</td> <td> 0.522</td> <td>  -80.058</td> <td>   40.609</td>\n",
       "</tr>\n",
       "<tr>\n",
       "  <th>x2_Astoria</th>                     <td>   -6.2975</td> <td>    7.112</td> <td>   -0.885</td> <td> 0.376</td> <td>  -20.237</td> <td>    7.642</td>\n",
       "</tr>\n",
       "<tr>\n",
       "  <th>x2_Bedford-Stuyvesant</th>          <td>   -4.0470</td> <td>    7.032</td> <td>   -0.576</td> <td> 0.565</td> <td>  -17.830</td> <td>    9.736</td>\n",
       "</tr>\n",
       "<tr>\n",
       "  <th>x2_Bushwick</th>                    <td>   -2.7252</td> <td>    7.032</td> <td>   -0.388</td> <td> 0.698</td> <td>  -16.507</td> <td>   11.057</td>\n",
       "</tr>\n",
       "<tr>\n",
       "  <th>x2_Chelsea</th>                     <td>   -3.4508</td> <td>    7.122</td> <td>   -0.484</td> <td> 0.628</td> <td>  -17.411</td> <td>   10.509</td>\n",
       "</tr>\n",
       "<tr>\n",
       "  <th>x2_Crown Heights</th>               <td>   -4.8392</td> <td>    7.061</td> <td>   -0.685</td> <td> 0.493</td> <td>  -18.678</td> <td>    9.000</td>\n",
       "</tr>\n",
       "<tr>\n",
       "  <th>x2_East Flatbush</th>               <td>   -2.0758</td> <td>    7.246</td> <td>   -0.286</td> <td> 0.775</td> <td>  -16.277</td> <td>   12.125</td>\n",
       "</tr>\n",
       "<tr>\n",
       "  <th>x2_East Harlem</th>                 <td>   -3.6134</td> <td>    7.118</td> <td>   -0.508</td> <td> 0.612</td> <td>  -17.564</td> <td>   10.337</td>\n",
       "</tr>\n",
       "<tr>\n",
       "  <th>x2_East Village</th>                <td>   -5.0527</td> <td>    7.046</td> <td>   -0.717</td> <td> 0.473</td> <td>  -18.862</td> <td>    8.757</td>\n",
       "</tr>\n",
       "<tr>\n",
       "  <th>x2_Financial District</th>          <td>   -2.9938</td> <td>    7.150</td> <td>   -0.419</td> <td> 0.675</td> <td>  -17.009</td> <td>   11.021</td>\n",
       "</tr>\n",
       "<tr>\n",
       "  <th>x2_Flatbush</th>                    <td>   -2.7533</td> <td>    7.187</td> <td>   -0.383</td> <td> 0.702</td> <td>  -16.839</td> <td>   11.332</td>\n",
       "</tr>\n",
       "<tr>\n",
       "  <th>x2_Greenpoint</th>                  <td>   -4.1062</td> <td>    7.098</td> <td>   -0.578</td> <td> 0.563</td> <td>  -18.019</td> <td>    9.806</td>\n",
       "</tr>\n",
       "<tr>\n",
       "  <th>x2_Harlem</th>                      <td>   -2.3843</td> <td>    7.064</td> <td>   -0.338</td> <td> 0.736</td> <td>  -16.230</td> <td>   11.461</td>\n",
       "</tr>\n",
       "<tr>\n",
       "  <th>x2_Hell's Kitchen</th>              <td>   -4.1698</td> <td>    7.089</td> <td>   -0.588</td> <td> 0.556</td> <td>  -18.064</td> <td>    9.724</td>\n",
       "</tr>\n",
       "<tr>\n",
       "  <th>x2_Lower East Side</th>             <td>   -3.8904</td> <td>    7.133</td> <td>   -0.545</td> <td> 0.586</td> <td>  -17.872</td> <td>   10.091</td>\n",
       "</tr>\n",
       "<tr>\n",
       "  <th>x2_Midtown</th>                     <td>   -4.9726</td> <td>    7.119</td> <td>   -0.699</td> <td> 0.485</td> <td>  -18.925</td> <td>    8.980</td>\n",
       "</tr>\n",
       "<tr>\n",
       "  <th>x2_Other</th>                       <td>   -4.1062</td> <td>    7.000</td> <td>   -0.587</td> <td> 0.557</td> <td>  -17.826</td> <td>    9.613</td>\n",
       "</tr>\n",
       "<tr>\n",
       "  <th>x2_Prospect-Lefferts Gardens</th>   <td>   -5.3995</td> <td>    7.206</td> <td>   -0.749</td> <td> 0.454</td> <td>  -19.523</td> <td>    8.724</td>\n",
       "</tr>\n",
       "<tr>\n",
       "  <th>x2_Upper East Side</th>             <td>   -6.3507</td> <td>    7.075</td> <td>   -0.898</td> <td> 0.369</td> <td>  -20.217</td> <td>    7.515</td>\n",
       "</tr>\n",
       "<tr>\n",
       "  <th>x2_Upper West Side</th>             <td>   -4.6743</td> <td>    7.049</td> <td>   -0.663</td> <td> 0.507</td> <td>  -18.491</td> <td>    9.143</td>\n",
       "</tr>\n",
       "<tr>\n",
       "  <th>x2_Washington Heights</th>          <td>   -2.5956</td> <td>    7.136</td> <td>   -0.364</td> <td> 0.716</td> <td>  -16.582</td> <td>   11.391</td>\n",
       "</tr>\n",
       "<tr>\n",
       "  <th>x2_West Village</th>                <td>   -3.2539</td> <td>    7.171</td> <td>   -0.454</td> <td> 0.650</td> <td>  -17.308</td> <td>   10.800</td>\n",
       "</tr>\n",
       "<tr>\n",
       "  <th>x2_Williamsburg</th>                <td>   -4.7611</td> <td>    7.002</td> <td>   -0.680</td> <td> 0.497</td> <td>  -18.485</td> <td>    8.963</td>\n",
       "</tr>\n",
       "<tr>\n",
       "  <th>service fee</th>                    <td>    4.9429</td> <td>    0.003</td> <td> 1706.296</td> <td> 0.000</td> <td>    4.937</td> <td>    4.949</td>\n",
       "</tr>\n",
       "<tr>\n",
       "  <th>minimum nights</th>                 <td>    0.0083</td> <td>    0.006</td> <td>    1.287</td> <td> 0.198</td> <td>   -0.004</td> <td>    0.021</td>\n",
       "</tr>\n",
       "<tr>\n",
       "  <th>number of reviews</th>              <td>   -0.0083</td> <td>    0.005</td> <td>   -1.755</td> <td> 0.079</td> <td>   -0.017</td> <td>    0.001</td>\n",
       "</tr>\n",
       "<tr>\n",
       "  <th>reviews per month</th>              <td>    0.2119</td> <td>    0.138</td> <td>    1.533</td> <td> 0.125</td> <td>   -0.059</td> <td>    0.483</td>\n",
       "</tr>\n",
       "<tr>\n",
       "  <th>review rate number</th>             <td>   -0.0007</td> <td>    0.151</td> <td>   -0.004</td> <td> 0.996</td> <td>   -0.298</td> <td>    0.296</td>\n",
       "</tr>\n",
       "<tr>\n",
       "  <th>calculated host listings count</th> <td>   -0.0120</td> <td>    0.007</td> <td>   -1.635</td> <td> 0.102</td> <td>   -0.026</td> <td>    0.002</td>\n",
       "</tr>\n",
       "<tr>\n",
       "  <th>availability 365</th>               <td>    0.0003</td> <td>    0.001</td> <td>    0.198</td> <td> 0.843</td> <td>   -0.003</td> <td>    0.003</td>\n",
       "</tr>\n",
       "<tr>\n",
       "  <th>lr_year</th>                        <td>    0.0800</td> <td>    0.133</td> <td>    0.603</td> <td> 0.547</td> <td>   -0.180</td> <td>    0.340</td>\n",
       "</tr>\n",
       "<tr>\n",
       "  <th>lr_month</th>                       <td>   -0.0983</td> <td>    0.069</td> <td>   -1.426</td> <td> 0.154</td> <td>   -0.233</td> <td>    0.037</td>\n",
       "</tr>\n",
       "<tr>\n",
       "  <th>lr_day</th>                         <td>    0.0553</td> <td>    0.020</td> <td>    2.798</td> <td> 0.005</td> <td>    0.017</td> <td>    0.094</td>\n",
       "</tr>\n",
       "</table>\n",
       "<table class=\"simpletable\">\n",
       "<tr>\n",
       "  <th>Omnibus:</th>       <td>65755.042</td> <th>  Durbin-Watson:     </th>   <td>   1.997</td>   \n",
       "</tr>\n",
       "<tr>\n",
       "  <th>Prob(Omnibus):</th>  <td> 0.000</td>   <th>  Jarque-Bera (JB):  </th> <td>343304984.137</td>\n",
       "</tr>\n",
       "<tr>\n",
       "  <th>Skew:</th>           <td> 3.674</td>   <th>  Prob(JB):          </th>   <td>    0.00</td>   \n",
       "</tr>\n",
       "<tr>\n",
       "  <th>Kurtosis:</th>       <td>360.300</td>  <th>  Cond. No.          </th>   <td>1.00e+16</td>   \n",
       "</tr>\n",
       "</table><br/><br/>Notes:<br/>[1] Standard Errors assume that the covariance matrix of the errors is correctly specified.<br/>[2] The smallest eigenvalue is 2.65e-21. This might indicate that there are<br/>strong multicollinearity problems or that the design matrix is singular."
      ],
      "text/plain": [
       "<class 'statsmodels.iolib.summary.Summary'>\n",
       "\"\"\"\n",
       "                            OLS Regression Results                            \n",
       "==============================================================================\n",
       "Dep. Variable:                  price   R-squared:                       0.978\n",
       "Model:                            OLS   Adj. R-squared:                  0.978\n",
       "Method:                 Least Squares   F-statistic:                 8.093e+04\n",
       "Date:                Mon, 24 Oct 2022   Prob (F-statistic):               0.00\n",
       "Time:                        22:22:52   Log-Likelihood:            -3.4255e+05\n",
       "No. Observations:               64512   AIC:                         6.852e+05\n",
       "Df Residuals:                   64475   BIC:                         6.855e+05\n",
       "Df Model:                          36                                         \n",
       "Covariance Type:            nonrobust                                         \n",
       "==================================================================================================\n",
       "                                     coef    std err          t      P>|t|      [0.025      0.975]\n",
       "--------------------------------------------------------------------------------------------------\n",
       "const                            -88.5131    153.530     -0.577      0.564    -389.432     212.405\n",
       "x0_unconfirmed                   -44.2086     76.765     -0.576      0.565    -194.668     106.250\n",
       "x0_verified                      -44.3045     76.765     -0.577      0.564    -194.765     106.156\n",
       "x1_Bronx                         -16.8736     30.756     -0.549      0.583     -77.154      43.407\n",
       "x1_Brooklyn                      -17.1883     30.689     -0.560      0.575     -77.340      42.963\n",
       "x1_Manhattan                     -17.6437     30.659     -0.575      0.565     -77.736      42.449\n",
       "x1_Queens                        -17.0828     30.725     -0.556      0.578     -77.304      43.139\n",
       "x1_Staten Island                 -19.7248     30.782     -0.641      0.522     -80.058      40.609\n",
       "x2_Astoria                        -6.2975      7.112     -0.885      0.376     -20.237       7.642\n",
       "x2_Bedford-Stuyvesant             -4.0470      7.032     -0.576      0.565     -17.830       9.736\n",
       "x2_Bushwick                       -2.7252      7.032     -0.388      0.698     -16.507      11.057\n",
       "x2_Chelsea                        -3.4508      7.122     -0.484      0.628     -17.411      10.509\n",
       "x2_Crown Heights                  -4.8392      7.061     -0.685      0.493     -18.678       9.000\n",
       "x2_East Flatbush                  -2.0758      7.246     -0.286      0.775     -16.277      12.125\n",
       "x2_East Harlem                    -3.6134      7.118     -0.508      0.612     -17.564      10.337\n",
       "x2_East Village                   -5.0527      7.046     -0.717      0.473     -18.862       8.757\n",
       "x2_Financial District             -2.9938      7.150     -0.419      0.675     -17.009      11.021\n",
       "x2_Flatbush                       -2.7533      7.187     -0.383      0.702     -16.839      11.332\n",
       "x2_Greenpoint                     -4.1062      7.098     -0.578      0.563     -18.019       9.806\n",
       "x2_Harlem                         -2.3843      7.064     -0.338      0.736     -16.230      11.461\n",
       "x2_Hell's Kitchen                 -4.1698      7.089     -0.588      0.556     -18.064       9.724\n",
       "x2_Lower East Side                -3.8904      7.133     -0.545      0.586     -17.872      10.091\n",
       "x2_Midtown                        -4.9726      7.119     -0.699      0.485     -18.925       8.980\n",
       "x2_Other                          -4.1062      7.000     -0.587      0.557     -17.826       9.613\n",
       "x2_Prospect-Lefferts Gardens      -5.3995      7.206     -0.749      0.454     -19.523       8.724\n",
       "x2_Upper East Side                -6.3507      7.075     -0.898      0.369     -20.217       7.515\n",
       "x2_Upper West Side                -4.6743      7.049     -0.663      0.507     -18.491       9.143\n",
       "x2_Washington Heights             -2.5956      7.136     -0.364      0.716     -16.582      11.391\n",
       "x2_West Village                   -3.2539      7.171     -0.454      0.650     -17.308      10.800\n",
       "x2_Williamsburg                   -4.7611      7.002     -0.680      0.497     -18.485       8.963\n",
       "service fee                        4.9429      0.003   1706.296      0.000       4.937       4.949\n",
       "minimum nights                     0.0083      0.006      1.287      0.198      -0.004       0.021\n",
       "number of reviews                 -0.0083      0.005     -1.755      0.079      -0.017       0.001\n",
       "reviews per month                  0.2119      0.138      1.533      0.125      -0.059       0.483\n",
       "review rate number                -0.0007      0.151     -0.004      0.996      -0.298       0.296\n",
       "calculated host listings count    -0.0120      0.007     -1.635      0.102      -0.026       0.002\n",
       "availability 365                   0.0003      0.001      0.198      0.843      -0.003       0.003\n",
       "lr_year                            0.0800      0.133      0.603      0.547      -0.180       0.340\n",
       "lr_month                          -0.0983      0.069     -1.426      0.154      -0.233       0.037\n",
       "lr_day                             0.0553      0.020      2.798      0.005       0.017       0.094\n",
       "==============================================================================\n",
       "Omnibus:                    65755.042   Durbin-Watson:                   1.997\n",
       "Prob(Omnibus):                  0.000   Jarque-Bera (JB):        343304984.137\n",
       "Skew:                           3.674   Prob(JB):                         0.00\n",
       "Kurtosis:                     360.300   Cond. No.                     1.00e+16\n",
       "==============================================================================\n",
       "\n",
       "Notes:\n",
       "[1] Standard Errors assume that the covariance matrix of the errors is correctly specified.\n",
       "[2] The smallest eigenvalue is 2.65e-21. This might indicate that there are\n",
       "strong multicollinearity problems or that the design matrix is singular.\n",
       "\"\"\""
      ]
     },
     "execution_count": 84,
     "metadata": {},
     "output_type": "execute_result"
    }
   ],
   "source": [
    "X_int = sm.add_constant(X)\n",
    "model = sm.OLS(y,X_int).fit()\n",
    "model.summary()"
   ]
  },
  {
   "cell_type": "markdown",
   "metadata": {},
   "source": [
    "From these regression results, it looks like variables that effect the price the most are unconfirmed, verified, or choosing a location part of the 5 boroughs. There is an average of about 89 dollars per AirBnb. Some neighborhoods that would be cheaper than others would be  Upper East Side, Astoria, Prospect-Lefferts Gardens, and East Village. It seems as though time of the year to get an AirBnB does not affect the price that much. The location you choose seems to affect it more."
   ]
  },
  {
   "cell_type": "markdown",
   "metadata": {},
   "source": [
    "## Building Regressor Tree Models"
   ]
  },
  {
   "cell_type": "markdown",
   "metadata": {},
   "source": [
    "### Baseline Decision Tree"
   ]
  },
  {
   "cell_type": "code",
   "execution_count": 85,
   "metadata": {},
   "outputs": [],
   "source": [
    "# Instantiating and fitting a DecisionTreeRegressor\n",
    "# Get predictions for training \n",
    "baseline_tree = DecisionTreeRegressor(random_state=123) \n",
    "baseline_tree.fit(data_train, target_train)\n",
    "predictions = baseline_tree.predict(data_test)"
   ]
  },
  {
   "cell_type": "code",
   "execution_count": 86,
   "metadata": {},
   "outputs": [
    {
     "data": {
      "text/plain": [
       "array([1.49562469e-04, 2.14342685e-04, 1.45394485e-06, 2.67307389e-04,\n",
       "       1.37657987e-04, 1.34919410e-04, 1.27152516e-05, 1.52206610e-05,\n",
       "       2.50950456e-04, 1.19473540e-04, 4.20819088e-05, 1.11187182e-05,\n",
       "       4.13553821e-08, 9.07184853e-05, 1.46107985e-04, 2.11114211e-07,\n",
       "       6.88450508e-06, 1.37050303e-05, 6.18981071e-06, 8.82118729e-05,\n",
       "       1.31773800e-05, 1.79347159e-04, 1.04258574e-04, 3.04305914e-06,\n",
       "       8.37332607e-05, 4.12346335e-05, 2.03533480e-05, 6.32259640e-07,\n",
       "       1.44733812e-04, 9.88443880e-01, 8.94427513e-04, 1.41545222e-03,\n",
       "       1.59956555e-03, 7.55372163e-04, 6.29478049e-04, 1.25991650e-03,\n",
       "       2.56711372e-04, 5.81344304e-04, 1.86446430e-03])"
      ]
     },
     "execution_count": 86,
     "metadata": {},
     "output_type": "execute_result"
    }
   ],
   "source": [
    "# Examining how important each feature ends up being\n",
    "# Feature importance\n",
    "baseline_tree.feature_importances_"
   ]
  },
  {
   "cell_type": "code",
   "execution_count": 87,
   "metadata": {},
   "outputs": [
    {
     "data": {
      "image/png": "[encoded data removed]",
      "text/plain": [
       "<Figure size 576x576 with 1 Axes>"
      ]
     },
     "metadata": {},
     "output_type": "display_data"
    }
   ],
   "source": [
    "# Visualizing feature importance \n",
    "def plot_feature_importances(model):\n",
    "    n_features = data_train.shape[1]\n",
    "    plt.figure(figsize=(8,8))\n",
    "    plt.barh(range(n_features), model.feature_importances_, align='center') \n",
    "    plt.yticks(np.arange(n_features), data_train.columns.values) \n",
    "    plt.xlabel('Feature importance')\n",
    "    plt.ylabel('Feature')\n",
    "\n",
    "plot_feature_importances(baseline_tree)"
   ]
  },
  {
   "cell_type": "code",
   "execution_count": 88,
   "metadata": {},
   "outputs": [],
   "source": [
    "# Test set predictions\n",
    "baseline_pred = baseline_tree.predict(data_test)\n"
   ]
  },
  {
   "cell_type": "code",
   "execution_count": 89,
   "metadata": {},
   "outputs": [
    {
     "name": "stdout",
     "output_type": "stream",
     "text": [
      "Mean Absolute Error: 5.392583120204604\n",
      "Mean Squared Error: 3335.096361311323\n",
      "Root Mean Squared Error: 57.750293170782456\n"
     ]
    }
   ],
   "source": [
    "# Evaluating the Algorithm\n",
    "# actual vs predicted \n",
    "print('Mean Absolute Error:', metrics.mean_absolute_error(target_test, baseline_pred))  \n",
    "print('Mean Squared Error:', metrics.mean_squared_error(target_test, baseline_pred))  \n",
    "print('Root Mean Squared Error:', np.sqrt(metrics.mean_squared_error(target_test, baseline_pred)))"
   ]
  },
  {
   "cell_type": "markdown",
   "metadata": {},
   "source": [
    "### Random Forest"
   ]
  },
  {
   "cell_type": "code",
   "execution_count": 90,
   "metadata": {},
   "outputs": [],
   "source": [
    "# Instantiate and fit RandomForestRegressor\n",
    "regressor = RandomForestRegressor(n_estimators = 50, random_state = 123)"
   ]
  },
  {
   "cell_type": "markdown",
   "metadata": {},
   "source": [
    "Passing training data to train the RF regressor model"
   ]
  },
  {
   "cell_type": "code",
   "execution_count": 91,
   "metadata": {},
   "outputs": [
    {
     "data": {
      "text/plain": [
       "RandomForestRegressor(n_estimators=50, random_state=123)"
      ]
     },
     "execution_count": 91,
     "metadata": {},
     "output_type": "execute_result"
    }
   ],
   "source": [
    "regressor.fit(data_train, target_train)"
   ]
  },
  {
   "cell_type": "markdown",
   "metadata": {},
   "source": [
    "Predicting test set results using RF regressor model"
   ]
  },
  {
   "cell_type": "code",
   "execution_count": 92,
   "metadata": {},
   "outputs": [],
   "source": [
    "# Predicting the Test set results\n",
    "target_pred = regressor.predict(data_test)"
   ]
  },
  {
   "cell_type": "markdown",
   "metadata": {},
   "source": [
    "Evaluate RF regressor model algorithm using error metrics."
   ]
  },
  {
   "cell_type": "code",
   "execution_count": 93,
   "metadata": {},
   "outputs": [
    {
     "name": "stdout",
     "output_type": "stream",
     "text": [
      "Mean Absolute Error: 5.099519755095713\n",
      "Mean Squared Error: 1821.9673312665452\n",
      "Root Mean Squared Error: 42.6845092658513\n"
     ]
    }
   ],
   "source": [
    "# Evaluating the Algorithm\n",
    "# With n_estimators = 50\n",
    "# actual vs predicted \n",
    "print('Mean Absolute Error:', metrics.mean_absolute_error(target_test, target_pred))  \n",
    "print('Mean Squared Error:', metrics.mean_squared_error(target_test, target_pred))  \n",
    "print('Root Mean Squared Error:', np.sqrt(metrics.mean_squared_error(target_test, target_pred)))"
   ]
  },
  {
   "cell_type": "code",
   "execution_count": 94,
   "metadata": {},
   "outputs": [
    {
     "data": {
      "image/png": "[encoded data removed]",
      "text/plain": [
       "<Figure size 576x576 with 1 Axes>"
      ]
     },
     "metadata": {},
     "output_type": "display_data"
    }
   ],
   "source": [
    "plot_feature_importances(regressor)"
   ]
  },
  {
   "cell_type": "markdown",
   "metadata": {},
   "source": [
    "Trying n_estimator = 40"
   ]
  },
  {
   "cell_type": "code",
   "execution_count": 95,
   "metadata": {},
   "outputs": [],
   "source": [
    "regressor2 = RandomForestRegressor(n_estimators = 40, random_state = 123)"
   ]
  },
  {
   "cell_type": "code",
   "execution_count": 96,
   "metadata": {},
   "outputs": [],
   "source": [
    "regressor2.fit(data_train, target_train)\n",
    "# Predicting the Test set results\n",
    "target_pred2 = regressor2.predict(data_test)"
   ]
  },
  {
   "cell_type": "code",
   "execution_count": 97,
   "metadata": {},
   "outputs": [
    {
     "name": "stdout",
     "output_type": "stream",
     "text": [
      "Mean Absolute Error: 5.129389889948073\n",
      "Mean Squared Error: 1845.9050140644972\n",
      "Root Mean Squared Error: 42.96399671893314\n"
     ]
    }
   ],
   "source": [
    "# Evaluating the Algorithm\n",
    "# With n_estimators = 40\n",
    "# actual vs predicted \n",
    "print('Mean Absolute Error:', metrics.mean_absolute_error(target_test, target_pred2))  \n",
    "print('Mean Squared Error:', metrics.mean_squared_error(target_test, target_pred2))  \n",
    "print('Root Mean Squared Error:', np.sqrt(metrics.mean_squared_error(target_test, target_pred2)))"
   ]
  },
  {
   "cell_type": "markdown",
   "metadata": {},
   "source": [
    "Trying n_estimator = 30"
   ]
  },
  {
   "cell_type": "code",
   "execution_count": 98,
   "metadata": {},
   "outputs": [],
   "source": [
    "regressor3 = RandomForestRegressor(n_estimators = 30, random_state = 123)"
   ]
  },
  {
   "cell_type": "code",
   "execution_count": 99,
   "metadata": {},
   "outputs": [],
   "source": [
    "regressor3.fit(data_train, target_train)\n",
    "# Predicting the Test set results\n",
    "target_pred3 = regressor3.predict(data_test)"
   ]
  },
  {
   "cell_type": "code",
   "execution_count": 100,
   "metadata": {},
   "outputs": [
    {
     "name": "stdout",
     "output_type": "stream",
     "text": [
      "Mean Absolute Error: 5.146629513992686\n",
      "Mean Squared Error: 1864.4637599824623\n",
      "Root Mean Squared Error: 43.17943677240895\n"
     ]
    }
   ],
   "source": [
    "# Evaluating the Algorithm\n",
    "# With n_estimators = 30\n",
    "# actual vs predicted \n",
    "print('Mean Absolute Error:', metrics.mean_absolute_error(target_test, target_pred3))  \n",
    "print('Mean Squared Error:', metrics.mean_squared_error(target_test, target_pred3))  \n",
    "print('Root Mean Squared Error:', np.sqrt(metrics.mean_squared_error(target_test, target_pred3)))"
   ]
  },
  {
   "cell_type": "markdown",
   "metadata": {},
   "source": [
    "### Random Forest with Grid Search"
   ]
  },
  {
   "cell_type": "code",
   "execution_count": 101,
   "metadata": {},
   "outputs": [],
   "source": [
    "# Number of trees in random forest\n",
    "# Create the parameter grid based on the results of random search \n",
    "param_grid = {\n",
    "    'bootstrap': [True],\n",
    "    'max_depth': [80, 90],\n",
    "    'max_features': [2, 3],\n",
    "    'min_samples_leaf': [3, 4],\n",
    "    'min_samples_split': [10, 12],\n",
    "    'n_estimators': [200, 300]\n",
    "}\n",
    "# Create a based model\n",
    "rf_grid = RandomForestRegressor()\n",
    "# Instantiate the grid search model\n",
    "grid_search = GridSearchCV(estimator = rf_grid, param_grid = param_grid, \n",
    "                          cv = 3, n_jobs = -1, verbose = 2)"
   ]
  },
  {
   "cell_type": "code",
   "execution_count": 102,
   "metadata": {},
   "outputs": [
    {
     "name": "stdout",
     "output_type": "stream",
     "text": [
      "Fitting 3 folds for each of 32 candidates, totalling 96 fits\n"
     ]
    },
    {
     "name": "stderr",
     "output_type": "stream",
     "text": [
      "[Parallel(n_jobs=-1)]: Using backend LokyBackend with 8 concurrent workers.\n",
      "[Parallel(n_jobs=-1)]: Done  25 tasks      | elapsed:   52.7s\n",
      "[Parallel(n_jobs=-1)]: Done  96 out of  96 | elapsed:  3.1min finished\n"
     ]
    }
   ],
   "source": [
    "# Fit grid search to data\n",
    "grid_search.fit(data_train, target_train)\n",
    "grid_search.best_params_\n",
    "{'bootstrap': True,\n",
    " 'max_depth': 80,\n",
    " 'max_features': 3,\n",
    " 'min_samples_leaf': 5,\n",
    " 'min_samples_split': 10,\n",
    " 'n_estimators': 300}\n",
    "best_grid = grid_search.best_estimator_\n"
   ]
  },
  {
   "cell_type": "code",
   "execution_count": 103,
   "metadata": {},
   "outputs": [
    {
     "name": "stdout",
     "output_type": "stream",
     "text": [
      "The best hyperparameters are  {'bootstrap': True, 'max_depth': 90, 'max_features': 3, 'min_samples_leaf': 3, 'min_samples_split': 12, 'n_estimators': 200}\n"
     ]
    }
   ],
   "source": [
    "print(\"The best hyperparameters are \",grid_search.best_params_)"
   ]
  },
  {
   "cell_type": "markdown",
   "metadata": {},
   "source": [
    "Using best hyperparameters for final calculation."
   ]
  },
  {
   "cell_type": "code",
   "execution_count": 104,
   "metadata": {},
   "outputs": [
    {
     "data": {
      "text/plain": [
       "RandomForestRegressor(max_depth=90, max_features=3, min_samples_leaf=3,\n",
       "                      min_samples_split=12, n_estimators=200)"
      ]
     },
     "execution_count": 104,
     "metadata": {},
     "output_type": "execute_result"
    }
   ],
   "source": [
    "rf_grid = RandomForestRegressor(bootstrap = grid_search.best_params_[\"bootstrap\"],\n",
    "                           max_depth  = grid_search.best_params_[\"max_depth\"],\n",
    "                           max_features     = grid_search.best_params_[\"max_features\"],\n",
    "                           min_samples_leaf     = grid_search.best_params_[\"min_samples_leaf\"],\n",
    "                           min_samples_split     = grid_search.best_params_[\"min_samples_split\"],\n",
    "                           n_estimators  = grid_search.best_params_[\"n_estimators\"])\n",
    "rf_grid.fit(data_train, target_train)"
   ]
  },
  {
   "cell_type": "code",
   "execution_count": 105,
   "metadata": {},
   "outputs": [],
   "source": [
    "rf_pred = rf_grid.predict(data_test)"
   ]
  },
  {
   "cell_type": "code",
   "execution_count": 106,
   "metadata": {},
   "outputs": [
    {
     "name": "stdout",
     "output_type": "stream",
     "text": [
      "Mean Absolute Error: 79.98609329251224\n",
      "Mean Squared Error: 11257.665351283604\n",
      "Root Mean Squared Error: 106.1021458373185\n"
     ]
    }
   ],
   "source": [
    "# Evaluating the Algorithm\n",
    "# actual vs predicted \n",
    "print('Mean Absolute Error:', metrics.mean_absolute_error(target_test, rf_pred))  \n",
    "print('Mean Squared Error:', metrics.mean_squared_error(target_test, rf_pred))  \n",
    "print('Root Mean Squared Error:', np.sqrt(metrics.mean_squared_error(target_test, rf_pred)))"
   ]
  },
  {
   "cell_type": "code",
   "execution_count": 107,
   "metadata": {},
   "outputs": [
    {
     "data": {
      "image/png": "[encoded data removed]",
      "text/plain": [
       "<Figure size 576x576 with 1 Axes>"
      ]
     },
     "metadata": {},
     "output_type": "display_data"
    }
   ],
   "source": [
    "plot_feature_importances(rf_grid)"
   ]
  },
  {
   "cell_type": "markdown",
   "metadata": {},
   "source": [
    "### XG Boost\n"
   ]
  },
  {
   "cell_type": "code",
   "execution_count": 108,
   "metadata": {},
   "outputs": [],
   "source": [
    "import xgboost as xgb"
   ]
  },
  {
   "cell_type": "code",
   "execution_count": 109,
   "metadata": {},
   "outputs": [],
   "source": [
    "# Instantiate XGBClassifier\n",
    "xg_regressor= xgb.XGBRegressor(eval_metric='rmse')"
   ]
  },
  {
   "cell_type": "code",
   "execution_count": 110,
   "metadata": {},
   "outputs": [],
   "source": [
    "# Set up search grid\n",
    "param_grid = {\"max_depth\":    [4, 5],\n",
    "              \"n_estimators\": [100, 200, 300],\n",
    "              \"learning_rate\": [0.01, 0.015]}\n"
   ]
  },
  {
   "cell_type": "code",
   "execution_count": 111,
   "metadata": {},
   "outputs": [
    {
     "name": "stdout",
     "output_type": "stream",
     "text": [
      "The best hyperparameters are  {'learning_rate': 0.015, 'max_depth': 4, 'n_estimators': 300}\n"
     ]
    }
   ],
   "source": [
    "# Trying out every combination of the above values\n",
    "search = GridSearchCV(xg_regressor, param_grid, cv=5).fit(data_train, target_train)\n",
    "print(\"The best hyperparameters are \",search.best_params_)"
   ]
  },
  {
   "cell_type": "markdown",
   "metadata": {},
   "source": [
    "Using best hyperparameters for final calculation."
   ]
  },
  {
   "cell_type": "code",
   "execution_count": 112,
   "metadata": {},
   "outputs": [
    {
     "data": {
      "text/plain": [
       "XGBRegressor(base_score=0.5, booster='gbtree', colsample_bylevel=1,\n",
       "             colsample_bynode=1, colsample_bytree=1, gamma=0, gpu_id=-1,\n",
       "             importance_type='gain', interaction_constraints='',\n",
       "             learning_rate=0.015, max_delta_step=0, max_depth=4,\n",
       "             min_child_weight=1, missing=nan, monotone_constraints='()',\n",
       "             n_estimators=300, n_jobs=0, num_parallel_tree=1, random_state=0,\n",
       "             reg_alpha=0, reg_lambda=1, scale_pos_weight=1, subsample=1,\n",
       "             tree_method='exact', validate_parameters=1, verbosity=None)"
      ]
     },
     "execution_count": 112,
     "metadata": {},
     "output_type": "execute_result"
    }
   ],
   "source": [
    "xg_regressor = xgb.XGBRegressor(learning_rate = search.best_params_[\"learning_rate\"],\n",
    "                           n_estimators  = search.best_params_[\"n_estimators\"],\n",
    "                           max_depth     = search.best_params_[\"max_depth\"],)\n",
    "\n",
    "xg_regressor.fit(data_train, target_train)"
   ]
  },
  {
   "cell_type": "markdown",
   "metadata": {},
   "source": [
    "Using model for predictions."
   ]
  },
  {
   "cell_type": "code",
   "execution_count": 113,
   "metadata": {},
   "outputs": [],
   "source": [
    "xg_pred = xg_regressor.predict(data_test)"
   ]
  },
  {
   "cell_type": "code",
   "execution_count": 114,
   "metadata": {},
   "outputs": [
    {
     "name": "stdout",
     "output_type": "stream",
     "text": [
      "Mean Absolute Error: 10.570509811823547\n",
      "Mean Squared Error: 1577.1709730373932\n",
      "Root Mean Squared Error: 39.713611936430475\n"
     ]
    }
   ],
   "source": [
    "# Evaluating the Algorithm\n",
    "# actual vs predicted \n",
    "print('Mean Absolute Error:', metrics.mean_absolute_error(target_test, xg_pred))  \n",
    "print('Mean Squared Error:', metrics.mean_squared_error(target_test, xg_pred))  \n",
    "print('Root Mean Squared Error:', np.sqrt(metrics.mean_squared_error(target_test, xg_pred)))"
   ]
  },
  {
   "cell_type": "code",
   "execution_count": 115,
   "metadata": {},
   "outputs": [
    {
     "data": {
      "image/png": "[encoded data removed]",
      "text/plain": [
       "<Figure size 576x576 with 1 Axes>"
      ]
     },
     "metadata": {},
     "output_type": "display_data"
    }
   ],
   "source": [
    "plot_feature_importances(xg_regressor)"
   ]
  },
  {
   "cell_type": "markdown",
   "metadata": {},
   "source": [
    "Out of all the models used, XGBoost had the lowest RMSE which was 39.71"
   ]
  },
  {
   "cell_type": "markdown",
   "metadata": {},
   "source": [
    "# Conclusion"
   ]
  },
  {
   "cell_type": "markdown",
   "metadata": {},
   "source": [
    "After analyzing this dataset from Airbnb, I got a clearer picture of what customers prefer and what effects the total price. To start off with, here is some general information. The most stayed at neighborhood seemed to be Bedford-Stuyvesant (Bed-Stuy) in Brooklyn. Secondly, some of the most expensive neighborhoods people stay at on average are Flatbush, West Willage, East Flatbush, Prospect-Lefferts Gardens, and Astoria. People tend to stay their longest visits in Upper East Side (11.5) days, Upper West Side, Midtown, Chelsea, and Hell's Kitchen. Building off that, the data suggests that people spend the longest stays in Manhattan on average compared to the rest of New York's boroughs. Speaking of booking, the amount of nights people tend to stay at a location is 1-2 nights.\n",
    "Diving further into the data, a OLS Regression chart was created. From this, it was seen that the average price for an Airbnb amongst customers was $89. The neighborhoods that someone could stay at for a cheaper price are Upper East Side, Astoria, Prospect-Lefferts Gardens, and East Village. Finally, it seems that the service fee for these stays predictably affect the total price the most for an Airbnb.\n",
    "Finally the data was applied to several regressor tree models. Those being a baseline one, random forest with different number of estimators, random forest with a grid search applied, and a XG Boost model with Grid Search. Among these variations, the model with the lowest RMSE was XG Boost with a value of 39.71.\n",
    "From all this data collected, one can say people tend to use Airbnbs to stay in Manhattan and their visits are longer than anywhere else. If one wanted to stay at the most affordable areas, they would want to stay in either Upper East Side, Astoria, Prospect-Lefferts Gardens, and East Village. Finally, the host of these Airbnbs should expect the average person to stay 1-2 nights."
   ]
  }
 ],
 "metadata": {
  "kernelspec": {
   "display_name": "Python 3",
   "language": "python",
   "name": "python3"
  },
  "language_info": {
   "codemirror_mode": {
    "name": "ipython",
    "version": 3
   },
   "file_extension": ".py",
   "mimetype": "text/x-python",
   "name": "python",
   "nbconvert_exporter": "python",
   "pygments_lexer": "ipython3",
   "version": "3.8.5"
  },
  "toc": {
   "base_numbering": 1,
   "nav_menu": {},
   "number_sections": true,
   "sideBar": true,
   "skip_h1_title": false,
   "title_cell": "Table of Contents",
   "title_sidebar": "Contents",
   "toc_cell": false,
   "toc_position": {},
   "toc_section_display": true,
   "toc_window_display": false
  }
 },
 "nbformat": 4,
 "nbformat_minor": 4
}
